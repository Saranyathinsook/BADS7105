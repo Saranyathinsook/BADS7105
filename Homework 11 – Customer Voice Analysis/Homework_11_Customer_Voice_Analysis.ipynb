{
  "nbformat": 4,
  "nbformat_minor": 0,
  "metadata": {
    "colab": {
      "name": "Homework_11_Customer_Voice_Analysis.ipynb",
      "provenance": [],
      "collapsed_sections": []
    },
    "kernelspec": {
      "name": "python3",
      "display_name": "Python 3"
    },
    "language_info": {
      "name": "python"
    }
  },
  "cells": [
    {
      "cell_type": "code",
      "metadata": {
        "colab": {
          "base_uri": "https://localhost:8080/"
        },
        "id": "LpmF8VMZ1WZz",
        "outputId": "78b7e365-4478-47ea-bf12-2285440a9715"
      },
      "source": [
        "!pip install --upgrade pythainlp\n",
        "!pip install pyLDAvis\n",
        "!pip install -U pandas-profiling\n",
        "!pip install sefr_cut"
      ],
      "execution_count": null,
      "outputs": [
        {
          "output_type": "stream",
          "text": [
            "Requirement already up-to-date: pythainlp in /usr/local/lib/python3.7/dist-packages (2.3.1)\n",
            "Requirement already satisfied, skipping upgrade: python-crfsuite>=0.9.6 in /usr/local/lib/python3.7/dist-packages (from pythainlp) (0.9.7)\n",
            "Requirement already satisfied, skipping upgrade: requests>=2.22.0 in /usr/local/lib/python3.7/dist-packages (from pythainlp) (2.25.1)\n",
            "Requirement already satisfied, skipping upgrade: tinydb>=3.0 in /usr/local/lib/python3.7/dist-packages (from pythainlp) (4.4.0)\n",
            "Requirement already satisfied, skipping upgrade: certifi>=2017.4.17 in /usr/local/lib/python3.7/dist-packages (from requests>=2.22.0->pythainlp) (2020.12.5)\n",
            "Requirement already satisfied, skipping upgrade: urllib3<1.27,>=1.21.1 in /usr/local/lib/python3.7/dist-packages (from requests>=2.22.0->pythainlp) (1.24.3)\n",
            "Requirement already satisfied, skipping upgrade: chardet<5,>=3.0.2 in /usr/local/lib/python3.7/dist-packages (from requests>=2.22.0->pythainlp) (3.0.4)\n",
            "Requirement already satisfied, skipping upgrade: idna<3,>=2.5 in /usr/local/lib/python3.7/dist-packages (from requests>=2.22.0->pythainlp) (2.10)\n",
            "Requirement already satisfied: pyLDAvis in /usr/local/lib/python3.7/dist-packages (3.3.1)\n",
            "Requirement already satisfied: numexpr in /usr/local/lib/python3.7/dist-packages (from pyLDAvis) (2.7.3)\n",
            "Requirement already satisfied: numpy>=1.20.0 in /usr/local/lib/python3.7/dist-packages (from pyLDAvis) (1.20.3)\n",
            "Requirement already satisfied: scipy in /usr/local/lib/python3.7/dist-packages (from pyLDAvis) (1.4.1)\n",
            "Requirement already satisfied: setuptools in /usr/local/lib/python3.7/dist-packages (from pyLDAvis) (56.1.0)\n",
            "Requirement already satisfied: pandas>=1.2.0 in /usr/local/lib/python3.7/dist-packages (from pyLDAvis) (1.2.4)\n",
            "Requirement already satisfied: joblib in /usr/local/lib/python3.7/dist-packages (from pyLDAvis) (1.0.1)\n",
            "Requirement already satisfied: jinja2 in /usr/local/lib/python3.7/dist-packages (from pyLDAvis) (2.11.3)\n",
            "Requirement already satisfied: funcy in /usr/local/lib/python3.7/dist-packages (from pyLDAvis) (1.16)\n",
            "Requirement already satisfied: sklearn in /usr/local/lib/python3.7/dist-packages (from pyLDAvis) (0.0)\n",
            "Requirement already satisfied: gensim in /usr/local/lib/python3.7/dist-packages (from pyLDAvis) (3.6.0)\n",
            "Requirement already satisfied: scikit-learn in /usr/local/lib/python3.7/dist-packages (from pyLDAvis) (0.22.2.post1)\n",
            "Requirement already satisfied: future in /usr/local/lib/python3.7/dist-packages (from pyLDAvis) (0.16.0)\n",
            "Requirement already satisfied: pytz>=2017.3 in /usr/local/lib/python3.7/dist-packages (from pandas>=1.2.0->pyLDAvis) (2018.9)\n",
            "Requirement already satisfied: python-dateutil>=2.7.3 in /usr/local/lib/python3.7/dist-packages (from pandas>=1.2.0->pyLDAvis) (2.8.1)\n",
            "Requirement already satisfied: MarkupSafe>=0.23 in /usr/local/lib/python3.7/dist-packages (from jinja2->pyLDAvis) (2.0.1)\n",
            "Requirement already satisfied: smart-open>=1.2.1 in /usr/local/lib/python3.7/dist-packages (from gensim->pyLDAvis) (5.0.0)\n",
            "Requirement already satisfied: six>=1.5.0 in /usr/local/lib/python3.7/dist-packages (from gensim->pyLDAvis) (1.15.0)\n",
            "Requirement already up-to-date: pandas-profiling in /usr/local/lib/python3.7/dist-packages (3.0.0)\n",
            "Requirement already satisfied, skipping upgrade: seaborn>=0.10.1 in /usr/local/lib/python3.7/dist-packages (from pandas-profiling) (0.11.1)\n",
            "Requirement already satisfied, skipping upgrade: missingno>=0.4.2 in /usr/local/lib/python3.7/dist-packages (from pandas-profiling) (0.4.2)\n",
            "Requirement already satisfied, skipping upgrade: PyYAML>=5.0.0 in /usr/local/lib/python3.7/dist-packages (from pandas-profiling) (5.4.1)\n",
            "Requirement already satisfied, skipping upgrade: pandas!=1.0.0,!=1.0.1,!=1.0.2,!=1.1.0,>=0.25.3 in /usr/local/lib/python3.7/dist-packages (from pandas-profiling) (1.2.4)\n",
            "Requirement already satisfied, skipping upgrade: joblib in /usr/local/lib/python3.7/dist-packages (from pandas-profiling) (1.0.1)\n",
            "Requirement already satisfied, skipping upgrade: pydantic>=1.8.1 in /usr/local/lib/python3.7/dist-packages (from pandas-profiling) (1.8.2)\n",
            "Requirement already satisfied, skipping upgrade: visions[type_image_path]==0.7.1 in /usr/local/lib/python3.7/dist-packages (from pandas-profiling) (0.7.1)\n",
            "Requirement already satisfied, skipping upgrade: phik>=0.11.1 in /usr/local/lib/python3.7/dist-packages (from pandas-profiling) (0.11.2)\n",
            "Requirement already satisfied, skipping upgrade: requests>=2.24.0 in /usr/local/lib/python3.7/dist-packages (from pandas-profiling) (2.25.1)\n",
            "Requirement already satisfied, skipping upgrade: tangled-up-in-unicode==0.1.0 in /usr/local/lib/python3.7/dist-packages (from pandas-profiling) (0.1.0)\n",
            "Requirement already satisfied, skipping upgrade: matplotlib>=3.2.0 in /usr/local/lib/python3.7/dist-packages (from pandas-profiling) (3.2.2)\n",
            "Requirement already satisfied, skipping upgrade: jinja2>=2.11.1 in /usr/local/lib/python3.7/dist-packages (from pandas-profiling) (2.11.3)\n",
            "Requirement already satisfied, skipping upgrade: tqdm>=4.48.2 in /usr/local/lib/python3.7/dist-packages (from pandas-profiling) (4.61.0)\n",
            "Requirement already satisfied, skipping upgrade: numpy>=1.16.0 in /usr/local/lib/python3.7/dist-packages (from pandas-profiling) (1.20.3)\n",
            "Requirement already satisfied, skipping upgrade: scipy>=1.4.1 in /usr/local/lib/python3.7/dist-packages (from pandas-profiling) (1.4.1)\n",
            "Requirement already satisfied, skipping upgrade: htmlmin>=0.1.12 in /usr/local/lib/python3.7/dist-packages (from pandas-profiling) (0.1.12)\n",
            "Requirement already satisfied, skipping upgrade: pytz>=2017.3 in /usr/local/lib/python3.7/dist-packages (from pandas!=1.0.0,!=1.0.1,!=1.0.2,!=1.1.0,>=0.25.3->pandas-profiling) (2018.9)\n",
            "Requirement already satisfied, skipping upgrade: python-dateutil>=2.7.3 in /usr/local/lib/python3.7/dist-packages (from pandas!=1.0.0,!=1.0.1,!=1.0.2,!=1.1.0,>=0.25.3->pandas-profiling) (2.8.1)\n",
            "Requirement already satisfied, skipping upgrade: typing-extensions>=3.7.4.3 in /usr/local/lib/python3.7/dist-packages (from pydantic>=1.8.1->pandas-profiling) (3.7.4.3)\n",
            "Requirement already satisfied, skipping upgrade: networkx>=2.4 in /usr/local/lib/python3.7/dist-packages (from visions[type_image_path]==0.7.1->pandas-profiling) (2.5.1)\n",
            "Requirement already satisfied, skipping upgrade: attrs>=19.3.0 in /usr/local/lib/python3.7/dist-packages (from visions[type_image_path]==0.7.1->pandas-profiling) (21.2.0)\n",
            "Requirement already satisfied, skipping upgrade: multimethod==1.4 in /usr/local/lib/python3.7/dist-packages (from visions[type_image_path]==0.7.1->pandas-profiling) (1.4)\n",
            "Requirement already satisfied, skipping upgrade: bottleneck in /usr/local/lib/python3.7/dist-packages (from visions[type_image_path]==0.7.1->pandas-profiling) (1.3.2)\n",
            "Requirement already satisfied, skipping upgrade: Pillow; extra == \"type_image_path\" in /usr/local/lib/python3.7/dist-packages (from visions[type_image_path]==0.7.1->pandas-profiling) (7.1.2)\n",
            "Requirement already satisfied, skipping upgrade: imagehash; extra == \"type_image_path\" in /usr/local/lib/python3.7/dist-packages (from visions[type_image_path]==0.7.1->pandas-profiling) (4.2.0)\n",
            "Requirement already satisfied, skipping upgrade: idna<3,>=2.5 in /usr/local/lib/python3.7/dist-packages (from requests>=2.24.0->pandas-profiling) (2.10)\n",
            "Requirement already satisfied, skipping upgrade: urllib3<1.27,>=1.21.1 in /usr/local/lib/python3.7/dist-packages (from requests>=2.24.0->pandas-profiling) (1.24.3)\n",
            "Requirement already satisfied, skipping upgrade: chardet<5,>=3.0.2 in /usr/local/lib/python3.7/dist-packages (from requests>=2.24.0->pandas-profiling) (3.0.4)\n",
            "Requirement already satisfied, skipping upgrade: certifi>=2017.4.17 in /usr/local/lib/python3.7/dist-packages (from requests>=2.24.0->pandas-profiling) (2020.12.5)\n",
            "Requirement already satisfied, skipping upgrade: pyparsing!=2.0.4,!=2.1.2,!=2.1.6,>=2.0.1 in /usr/local/lib/python3.7/dist-packages (from matplotlib>=3.2.0->pandas-profiling) (2.4.7)\n",
            "Requirement already satisfied, skipping upgrade: kiwisolver>=1.0.1 in /usr/local/lib/python3.7/dist-packages (from matplotlib>=3.2.0->pandas-profiling) (1.3.1)\n",
            "Requirement already satisfied, skipping upgrade: cycler>=0.10 in /usr/local/lib/python3.7/dist-packages (from matplotlib>=3.2.0->pandas-profiling) (0.10.0)\n",
            "Requirement already satisfied, skipping upgrade: MarkupSafe>=0.23 in /usr/local/lib/python3.7/dist-packages (from jinja2>=2.11.1->pandas-profiling) (2.0.1)\n",
            "Requirement already satisfied, skipping upgrade: six>=1.5 in /usr/local/lib/python3.7/dist-packages (from python-dateutil>=2.7.3->pandas!=1.0.0,!=1.0.1,!=1.0.2,!=1.1.0,>=0.25.3->pandas-profiling) (1.15.0)\n",
            "Requirement already satisfied, skipping upgrade: decorator<5,>=4.3 in /usr/local/lib/python3.7/dist-packages (from networkx>=2.4->visions[type_image_path]==0.7.1->pandas-profiling) (4.4.2)\n",
            "Requirement already satisfied, skipping upgrade: PyWavelets in /usr/local/lib/python3.7/dist-packages (from imagehash; extra == \"type_image_path\"->visions[type_image_path]==0.7.1->pandas-profiling) (1.1.1)\n",
            "Requirement already satisfied: sefr_cut in /usr/local/lib/python3.7/dist-packages (1.1)\n",
            "Requirement already satisfied: scipy in /usr/local/lib/python3.7/dist-packages (from sefr_cut) (1.4.1)\n",
            "Requirement already satisfied: numpy in /usr/local/lib/python3.7/dist-packages (from sefr_cut) (1.20.3)\n",
            "Requirement already satisfied: pyahocorasick in /usr/local/lib/python3.7/dist-packages (from sefr_cut) (1.4.2)\n",
            "Requirement already satisfied: scikit-learn in /usr/local/lib/python3.7/dist-packages (from sefr_cut) (0.22.2.post1)\n",
            "Requirement already satisfied: tensorflow>=2.0.0 in /usr/local/lib/python3.7/dist-packages (from sefr_cut) (2.5.0)\n",
            "Requirement already satisfied: python-crfsuite in /usr/local/lib/python3.7/dist-packages (from sefr_cut) (0.9.7)\n",
            "Requirement already satisfied: pandas in /usr/local/lib/python3.7/dist-packages (from sefr_cut) (1.2.4)\n",
            "Requirement already satisfied: joblib>=0.11 in /usr/local/lib/python3.7/dist-packages (from scikit-learn->sefr_cut) (1.0.1)\n",
            "Requirement already satisfied: keras-nightly~=2.5.0.dev in /usr/local/lib/python3.7/dist-packages (from tensorflow>=2.0.0->sefr_cut) (2.5.0.dev2021032900)\n",
            "Requirement already satisfied: protobuf>=3.9.2 in /usr/local/lib/python3.7/dist-packages (from tensorflow>=2.0.0->sefr_cut) (3.12.4)\n",
            "Requirement already satisfied: astunparse~=1.6.3 in /usr/local/lib/python3.7/dist-packages (from tensorflow>=2.0.0->sefr_cut) (1.6.3)\n",
            "Requirement already satisfied: tensorflow-estimator<2.6.0,>=2.5.0rc0 in /usr/local/lib/python3.7/dist-packages (from tensorflow>=2.0.0->sefr_cut) (2.5.0)\n",
            "Requirement already satisfied: google-pasta~=0.2 in /usr/local/lib/python3.7/dist-packages (from tensorflow>=2.0.0->sefr_cut) (0.2.0)\n",
            "Requirement already satisfied: grpcio~=1.34.0 in /usr/local/lib/python3.7/dist-packages (from tensorflow>=2.0.0->sefr_cut) (1.34.1)\n",
            "Requirement already satisfied: flatbuffers~=1.12.0 in /usr/local/lib/python3.7/dist-packages (from tensorflow>=2.0.0->sefr_cut) (1.12)\n",
            "Requirement already satisfied: h5py~=3.1.0 in /usr/local/lib/python3.7/dist-packages (from tensorflow>=2.0.0->sefr_cut) (3.1.0)\n",
            "Requirement already satisfied: six~=1.15.0 in /usr/local/lib/python3.7/dist-packages (from tensorflow>=2.0.0->sefr_cut) (1.15.0)\n",
            "Requirement already satisfied: typing-extensions~=3.7.4 in /usr/local/lib/python3.7/dist-packages (from tensorflow>=2.0.0->sefr_cut) (3.7.4.3)\n",
            "Requirement already satisfied: wheel~=0.35 in /usr/local/lib/python3.7/dist-packages (from tensorflow>=2.0.0->sefr_cut) (0.36.2)\n",
            "Requirement already satisfied: gast==0.4.0 in /usr/local/lib/python3.7/dist-packages (from tensorflow>=2.0.0->sefr_cut) (0.4.0)\n",
            "Requirement already satisfied: tensorboard~=2.5 in /usr/local/lib/python3.7/dist-packages (from tensorflow>=2.0.0->sefr_cut) (2.5.0)\n",
            "Requirement already satisfied: keras-preprocessing~=1.1.2 in /usr/local/lib/python3.7/dist-packages (from tensorflow>=2.0.0->sefr_cut) (1.1.2)\n",
            "Requirement already satisfied: opt-einsum~=3.3.0 in /usr/local/lib/python3.7/dist-packages (from tensorflow>=2.0.0->sefr_cut) (3.3.0)\n",
            "Requirement already satisfied: wrapt~=1.12.1 in /usr/local/lib/python3.7/dist-packages (from tensorflow>=2.0.0->sefr_cut) (1.12.1)\n",
            "Requirement already satisfied: absl-py~=0.10 in /usr/local/lib/python3.7/dist-packages (from tensorflow>=2.0.0->sefr_cut) (0.12.0)\n",
            "Requirement already satisfied: termcolor~=1.1.0 in /usr/local/lib/python3.7/dist-packages (from tensorflow>=2.0.0->sefr_cut) (1.1.0)\n",
            "Requirement already satisfied: python-dateutil>=2.7.3 in /usr/local/lib/python3.7/dist-packages (from pandas->sefr_cut) (2.8.1)\n",
            "Requirement already satisfied: pytz>=2017.3 in /usr/local/lib/python3.7/dist-packages (from pandas->sefr_cut) (2018.9)\n",
            "Requirement already satisfied: setuptools in /usr/local/lib/python3.7/dist-packages (from protobuf>=3.9.2->tensorflow>=2.0.0->sefr_cut) (56.1.0)\n",
            "Requirement already satisfied: cached-property; python_version < \"3.8\" in /usr/local/lib/python3.7/dist-packages (from h5py~=3.1.0->tensorflow>=2.0.0->sefr_cut) (1.5.2)\n",
            "Requirement already satisfied: tensorboard-data-server<0.7.0,>=0.6.0 in /usr/local/lib/python3.7/dist-packages (from tensorboard~=2.5->tensorflow>=2.0.0->sefr_cut) (0.6.1)\n",
            "Requirement already satisfied: tensorboard-plugin-wit>=1.6.0 in /usr/local/lib/python3.7/dist-packages (from tensorboard~=2.5->tensorflow>=2.0.0->sefr_cut) (1.8.0)\n",
            "Requirement already satisfied: google-auth-oauthlib<0.5,>=0.4.1 in /usr/local/lib/python3.7/dist-packages (from tensorboard~=2.5->tensorflow>=2.0.0->sefr_cut) (0.4.4)\n",
            "Requirement already satisfied: google-auth<2,>=1.6.3 in /usr/local/lib/python3.7/dist-packages (from tensorboard~=2.5->tensorflow>=2.0.0->sefr_cut) (1.30.0)\n",
            "Requirement already satisfied: markdown>=2.6.8 in /usr/local/lib/python3.7/dist-packages (from tensorboard~=2.5->tensorflow>=2.0.0->sefr_cut) (3.3.4)\n",
            "Requirement already satisfied: requests<3,>=2.21.0 in /usr/local/lib/python3.7/dist-packages (from tensorboard~=2.5->tensorflow>=2.0.0->sefr_cut) (2.25.1)\n",
            "Requirement already satisfied: werkzeug>=0.11.15 in /usr/local/lib/python3.7/dist-packages (from tensorboard~=2.5->tensorflow>=2.0.0->sefr_cut) (1.0.1)\n",
            "Requirement already satisfied: requests-oauthlib>=0.7.0 in /usr/local/lib/python3.7/dist-packages (from google-auth-oauthlib<0.5,>=0.4.1->tensorboard~=2.5->tensorflow>=2.0.0->sefr_cut) (1.3.0)\n",
            "Requirement already satisfied: cachetools<5.0,>=2.0.0 in /usr/local/lib/python3.7/dist-packages (from google-auth<2,>=1.6.3->tensorboard~=2.5->tensorflow>=2.0.0->sefr_cut) (4.2.2)\n",
            "Requirement already satisfied: rsa<5,>=3.1.4; python_version >= \"3.6\" in /usr/local/lib/python3.7/dist-packages (from google-auth<2,>=1.6.3->tensorboard~=2.5->tensorflow>=2.0.0->sefr_cut) (4.7.2)\n",
            "Requirement already satisfied: pyasn1-modules>=0.2.1 in /usr/local/lib/python3.7/dist-packages (from google-auth<2,>=1.6.3->tensorboard~=2.5->tensorflow>=2.0.0->sefr_cut) (0.2.8)\n",
            "Requirement already satisfied: importlib-metadata; python_version < \"3.8\" in /usr/local/lib/python3.7/dist-packages (from markdown>=2.6.8->tensorboard~=2.5->tensorflow>=2.0.0->sefr_cut) (4.0.1)\n",
            "Requirement already satisfied: certifi>=2017.4.17 in /usr/local/lib/python3.7/dist-packages (from requests<3,>=2.21.0->tensorboard~=2.5->tensorflow>=2.0.0->sefr_cut) (2020.12.5)\n",
            "Requirement already satisfied: urllib3<1.27,>=1.21.1 in /usr/local/lib/python3.7/dist-packages (from requests<3,>=2.21.0->tensorboard~=2.5->tensorflow>=2.0.0->sefr_cut) (1.24.3)\n",
            "Requirement already satisfied: chardet<5,>=3.0.2 in /usr/local/lib/python3.7/dist-packages (from requests<3,>=2.21.0->tensorboard~=2.5->tensorflow>=2.0.0->sefr_cut) (3.0.4)\n",
            "Requirement already satisfied: idna<3,>=2.5 in /usr/local/lib/python3.7/dist-packages (from requests<3,>=2.21.0->tensorboard~=2.5->tensorflow>=2.0.0->sefr_cut) (2.10)\n",
            "Requirement already satisfied: oauthlib>=3.0.0 in /usr/local/lib/python3.7/dist-packages (from requests-oauthlib>=0.7.0->google-auth-oauthlib<0.5,>=0.4.1->tensorboard~=2.5->tensorflow>=2.0.0->sefr_cut) (3.1.0)\n",
            "Requirement already satisfied: pyasn1>=0.1.3 in /usr/local/lib/python3.7/dist-packages (from rsa<5,>=3.1.4; python_version >= \"3.6\"->google-auth<2,>=1.6.3->tensorboard~=2.5->tensorflow>=2.0.0->sefr_cut) (0.4.8)\n",
            "Requirement already satisfied: zipp>=0.5 in /usr/local/lib/python3.7/dist-packages (from importlib-metadata; python_version < \"3.8\"->markdown>=2.6.8->tensorboard~=2.5->tensorflow>=2.0.0->sefr_cut) (3.4.1)\n"
          ],
          "name": "stdout"
        }
      ]
    },
    {
      "cell_type": "code",
      "metadata": {
        "colab": {
          "base_uri": "https://localhost:8080/"
        },
        "id": "XxDnDnso1bpE",
        "outputId": "d8140b0d-4663-4fc5-e1ec-a92bf4c6a475"
      },
      "source": [
        "import pandas as pd\n",
        "import pythainlp\n",
        "import sefr_cut\n",
        "import gensim\n",
        "# import pyLDAvis.gensim\n",
        "import pyLDAvis\n",
        "import pyLDAvis.gensim_models as gensimvis\n",
        "pyLDAvis.enable_notebook()\n",
        "import warnings\n",
        "warnings.filterwarnings(\"ignore\", category=DeprecationWarning)"
      ],
      "execution_count": null,
      "outputs": [
        {
          "output_type": "stream",
          "text": [
            "/usr/local/lib/python3.7/dist-packages/past/types/oldstr.py:5: DeprecationWarning: Using or importing the ABCs from 'collections' instead of from 'collections.abc' is deprecated since Python 3.3,and in 3.9 it will stop working\n",
            "  from collections import Iterable\n",
            "/usr/local/lib/python3.7/dist-packages/sklearn/linear_model/_least_angle.py:30: DeprecationWarning: `np.float` is a deprecated alias for the builtin `float`. To silence this warning, use `float` by itself. Doing this will not modify any behavior and is safe. If you specifically wanted the numpy scalar type, use `np.float64` here.\n",
            "Deprecated in NumPy 1.20; for more details and guidance: https://numpy.org/devdocs/release/1.20.0-notes.html#deprecations\n",
            "  method='lar', copy_X=True, eps=np.finfo(np.float).eps,\n",
            "/usr/local/lib/python3.7/dist-packages/sklearn/linear_model/_least_angle.py:169: DeprecationWarning: `np.float` is a deprecated alias for the builtin `float`. To silence this warning, use `float` by itself. Doing this will not modify any behavior and is safe. If you specifically wanted the numpy scalar type, use `np.float64` here.\n",
            "Deprecated in NumPy 1.20; for more details and guidance: https://numpy.org/devdocs/release/1.20.0-notes.html#deprecations\n",
            "  method='lar', copy_X=True, eps=np.finfo(np.float).eps,\n",
            "/usr/local/lib/python3.7/dist-packages/sklearn/linear_model/_least_angle.py:286: DeprecationWarning: `np.float` is a deprecated alias for the builtin `float`. To silence this warning, use `float` by itself. Doing this will not modify any behavior and is safe. If you specifically wanted the numpy scalar type, use `np.float64` here.\n",
            "Deprecated in NumPy 1.20; for more details and guidance: https://numpy.org/devdocs/release/1.20.0-notes.html#deprecations\n",
            "  eps=np.finfo(np.float).eps, copy_Gram=True, verbose=0,\n",
            "/usr/local/lib/python3.7/dist-packages/sklearn/linear_model/_least_angle.py:858: DeprecationWarning: `np.float` is a deprecated alias for the builtin `float`. To silence this warning, use `float` by itself. Doing this will not modify any behavior and is safe. If you specifically wanted the numpy scalar type, use `np.float64` here.\n",
            "Deprecated in NumPy 1.20; for more details and guidance: https://numpy.org/devdocs/release/1.20.0-notes.html#deprecations\n",
            "  eps=np.finfo(np.float).eps, copy_X=True, fit_path=True):\n",
            "/usr/local/lib/python3.7/dist-packages/sklearn/linear_model/_least_angle.py:1094: DeprecationWarning: `np.float` is a deprecated alias for the builtin `float`. To silence this warning, use `float` by itself. Doing this will not modify any behavior and is safe. If you specifically wanted the numpy scalar type, use `np.float64` here.\n",
            "Deprecated in NumPy 1.20; for more details and guidance: https://numpy.org/devdocs/release/1.20.0-notes.html#deprecations\n",
            "  eps=np.finfo(np.float).eps, copy_X=True, fit_path=True,\n",
            "/usr/local/lib/python3.7/dist-packages/sklearn/linear_model/_least_angle.py:1120: DeprecationWarning: `np.float` is a deprecated alias for the builtin `float`. To silence this warning, use `float` by itself. Doing this will not modify any behavior and is safe. If you specifically wanted the numpy scalar type, use `np.float64` here.\n",
            "Deprecated in NumPy 1.20; for more details and guidance: https://numpy.org/devdocs/release/1.20.0-notes.html#deprecations\n",
            "  eps=np.finfo(np.float).eps, positive=False):\n",
            "/usr/local/lib/python3.7/dist-packages/sklearn/linear_model/_least_angle.py:1349: DeprecationWarning: `np.float` is a deprecated alias for the builtin `float`. To silence this warning, use `float` by itself. Doing this will not modify any behavior and is safe. If you specifically wanted the numpy scalar type, use `np.float64` here.\n",
            "Deprecated in NumPy 1.20; for more details and guidance: https://numpy.org/devdocs/release/1.20.0-notes.html#deprecations\n",
            "  max_n_alphas=1000, n_jobs=None, eps=np.finfo(np.float).eps,\n",
            "/usr/local/lib/python3.7/dist-packages/sklearn/linear_model/_least_angle.py:1590: DeprecationWarning: `np.float` is a deprecated alias for the builtin `float`. To silence this warning, use `float` by itself. Doing this will not modify any behavior and is safe. If you specifically wanted the numpy scalar type, use `np.float64` here.\n",
            "Deprecated in NumPy 1.20; for more details and guidance: https://numpy.org/devdocs/release/1.20.0-notes.html#deprecations\n",
            "  max_n_alphas=1000, n_jobs=None, eps=np.finfo(np.float).eps,\n",
            "/usr/local/lib/python3.7/dist-packages/sklearn/linear_model/_least_angle.py:1723: DeprecationWarning: `np.float` is a deprecated alias for the builtin `float`. To silence this warning, use `float` by itself. Doing this will not modify any behavior and is safe. If you specifically wanted the numpy scalar type, use `np.float64` here.\n",
            "Deprecated in NumPy 1.20; for more details and guidance: https://numpy.org/devdocs/release/1.20.0-notes.html#deprecations\n",
            "  eps=np.finfo(np.float).eps, copy_X=True, positive=False):\n",
            "/usr/local/lib/python3.7/dist-packages/sklearn/decomposition/_lda.py:29: DeprecationWarning: `np.float` is a deprecated alias for the builtin `float`. To silence this warning, use `float` by itself. Doing this will not modify any behavior and is safe. If you specifically wanted the numpy scalar type, use `np.float64` here.\n",
            "Deprecated in NumPy 1.20; for more details and guidance: https://numpy.org/devdocs/release/1.20.0-notes.html#deprecations\n",
            "  EPS = np.finfo(np.float).eps\n"
          ],
          "name": "stderr"
        }
      ]
    },
    {
      "cell_type": "code",
      "metadata": {
        "id": "xe2Q2lo51xV-"
      },
      "source": [
        "df = pd.read_csv('CustomerReviews.csv')"
      ],
      "execution_count": null,
      "outputs": []
    },
    {
      "cell_type": "code",
      "metadata": {
        "colab": {
          "base_uri": "https://localhost:8080/",
          "height": 476
        },
        "id": "QD7922Vj4Tqk",
        "outputId": "db0181e3-a195-417b-daa8-d7300415780e"
      },
      "source": [
        "df.head()"
      ],
      "execution_count": null,
      "outputs": [
        {
          "output_type": "execute_result",
          "data": {
            "text/html": [
              "<div>\n",
              "<style scoped>\n",
              "    .dataframe tbody tr th:only-of-type {\n",
              "        vertical-align: middle;\n",
              "    }\n",
              "\n",
              "    .dataframe tbody tr th {\n",
              "        vertical-align: top;\n",
              "    }\n",
              "\n",
              "    .dataframe thead th {\n",
              "        text-align: right;\n",
              "    }\n",
              "</style>\n",
              "<table border=\"1\" class=\"dataframe\">\n",
              "  <thead>\n",
              "    <tr style=\"text-align: right;\">\n",
              "      <th></th>\n",
              "      <th>Review ID</th>\n",
              "      <th>Restaurant_ID</th>\n",
              "      <th>Restaurant</th>\n",
              "      <th>User</th>\n",
              "      <th>Headline</th>\n",
              "      <th>Review</th>\n",
              "      <th>Rating</th>\n",
              "    </tr>\n",
              "  </thead>\n",
              "  <tbody>\n",
              "    <tr>\n",
              "      <th>0</th>\n",
              "      <td>1</td>\n",
              "      <td>352696Px-mo-mo-paradise-เดอะมอลล์-บางกะปิ</td>\n",
              "      <td>Mo-Mo-Paradise (โม โม พาราไดซ์) เดอะมอลล์ บางกะปิ</td>\n",
              "      <td>7b16469831074f7abc7824745ee75212</td>\n",
              "      <td>ที่สำคัญของร้านนี้คือบริการดีมากพนักงานน่ารักส...</td>\n",
              "      <td>ที่สำคัญของร้านนี้คือบริการดีมากพนักงานน่ารักส...</td>\n",
              "      <td>5.0</td>\n",
              "    </tr>\n",
              "    <tr>\n",
              "      <th>1</th>\n",
              "      <td>2</td>\n",
              "      <td>352696Px-mo-mo-paradise-เดอะมอลล์-บางกะปิ</td>\n",
              "      <td>Mo-Mo-Paradise (โม โม พาราไดซ์) เดอะมอลล์ บางกะปิ</td>\n",
              "      <td>pakkaramonpondej</td>\n",
              "      <td>รสชาติเหมือนทุกสาขา แต่สาขานี้ บริการดี ที่นั่งดี</td>\n",
              "      <td>นึกถึงชาบูญี่ปุ่นยังไงก็ต้อง คิดถึงโมโม่ พาราไ...</td>\n",
              "      <td>5.0</td>\n",
              "    </tr>\n",
              "    <tr>\n",
              "      <th>2</th>\n",
              "      <td>3</td>\n",
              "      <td>352696Px-mo-mo-paradise-เดอะมอลล์-บางกะปิ</td>\n",
              "      <td>Mo-Mo-Paradise (โม โม พาราไดซ์) เดอะมอลล์ บางกะปิ</td>\n",
              "      <td>saanowy</td>\n",
              "      <td>ชาบูพรีเมี่ยมสไตล์ญี่ปุ่น เนื้อดีมากกก</td>\n",
              "      <td>มาทานช่วงนี้ สามารถนั่งโต๊ะเดียวกัน หม้อเดียวก...</td>\n",
              "      <td>4.0</td>\n",
              "    </tr>\n",
              "    <tr>\n",
              "      <th>3</th>\n",
              "      <td>4</td>\n",
              "      <td>352696Px-mo-mo-paradise-เดอะมอลล์-บางกะปิ</td>\n",
              "      <td>Mo-Mo-Paradise (โม โม พาราไดซ์) เดอะมอลล์ บางกะปิ</td>\n",
              "      <td>ployynp</td>\n",
              "      <td>เนื้อดี ไอติมดี คุ้มค่าดี</td>\n",
              "      <td>ถ้านึกถึงชาบูที่มีเนื้อเน้นๆ ในราคาไม่โหดจนเกิ...</td>\n",
              "      <td>4.0</td>\n",
              "    </tr>\n",
              "    <tr>\n",
              "      <th>4</th>\n",
              "      <td>5</td>\n",
              "      <td>352696Px-mo-mo-paradise-เดอะมอลล์-บางกะปิ</td>\n",
              "      <td>Mo-Mo-Paradise (โม โม พาราไดซ์) เดอะมอลล์ บางกะปิ</td>\n",
              "      <td>665a902b335b434ab489f00f2fbb477e</td>\n",
              "      <td>อาหารมีคุณภาพ บริการดีค่ะ</td>\n",
              "      <td>เดินมาหน้าร้านแล้วได้กลิ่นชาบูหอมมาก ๆ  ประกอบ...</td>\n",
              "      <td>5.0</td>\n",
              "    </tr>\n",
              "  </tbody>\n",
              "</table>\n",
              "</div>"
            ],
            "text/plain": [
              "   Review ID  ... Rating\n",
              "0          1  ...    5.0\n",
              "1          2  ...    5.0\n",
              "2          3  ...    4.0\n",
              "3          4  ...    4.0\n",
              "4          5  ...    5.0\n",
              "\n",
              "[5 rows x 7 columns]"
            ]
          },
          "metadata": {
            "tags": []
          },
          "execution_count": 4
        }
      ]
    },
    {
      "cell_type": "markdown",
      "metadata": {
        "id": "8Y6tytxb4s1M"
      },
      "source": [
        "Tokenize Words"
      ]
    },
    {
      "cell_type": "code",
      "metadata": {
        "colab": {
          "base_uri": "https://localhost:8080/"
        },
        "id": "L8Ip2pNi4vCp",
        "outputId": "136ce839-249c-4f85-f809-e81a24a42581"
      },
      "source": [
        "stopwords = list(pythainlp.corpus.thai_stopwords())\n",
        "removed_words = [' ', '  ', '\\n','\\n\\n', 'ร้าน', '(', ')' , '           ','–', '!', '!!','-','/','+','😆','🤣','\"','','%','\\u200b','::']\n",
        "screening_words = stopwords + removed_words\n",
        "\n",
        "sefr_cut.load_model(engine='ws1000')\n",
        "def tokenize_with_space(sentence):\n",
        "  merged = ''\n",
        "  # words = pythainlp.word_tokenize(str(sentence), engine='newmm')\n",
        "  words = sefr_cut.tokenize(sentence)\n",
        "  for word in words[0]:\n",
        "    if word not in screening_words:\n",
        "      word = word.rstrip(\"\\n\")\n",
        "      word = word.rstrip(\"\\u200b\")\n",
        "      if word is None or word == ' ' or word == '' or word ==':':\n",
        "        continue\n",
        "      else: \n",
        "        merged = merged + ',' + word\n",
        "    elif word is None:\n",
        "      continue\n",
        "  return merged[1:]\n",
        "  \n",
        "  # return words"
      ],
      "execution_count": null,
      "outputs": [
        {
          "output_type": "stream",
          "text": [
            "loading model.....\n",
            "Success\n"
          ],
          "name": "stdout"
        }
      ]
    },
    {
      "cell_type": "code",
      "metadata": {
        "id": "BIC5dm0w414Y"
      },
      "source": [
        "df['Review_tokenized'] = df['Review'].apply(lambda x: tokenize_with_space(x))"
      ],
      "execution_count": null,
      "outputs": []
    },
    {
      "cell_type": "code",
      "metadata": {
        "colab": {
          "base_uri": "https://localhost:8080/"
        },
        "id": "M5usAdZk7S9u",
        "outputId": "6e2d4d12-2ee0-4b2a-95b8-c1aeeff01be8"
      },
      "source": [
        "df.info()"
      ],
      "execution_count": null,
      "outputs": [
        {
          "output_type": "stream",
          "text": [
            "<class 'pandas.core.frame.DataFrame'>\n",
            "RangeIndex: 21 entries, 0 to 20\n",
            "Data columns (total 8 columns):\n",
            " #   Column            Non-Null Count  Dtype  \n",
            "---  ------            --------------  -----  \n",
            " 0   Review ID         21 non-null     int64  \n",
            " 1   Restaurant_ID     21 non-null     object \n",
            " 2   Restaurant        21 non-null     object \n",
            " 3   User              21 non-null     object \n",
            " 4   Headline          21 non-null     object \n",
            " 5   Review            21 non-null     object \n",
            " 6   Rating            20 non-null     float64\n",
            " 7   Review_tokenized  21 non-null     object \n",
            "dtypes: float64(1), int64(1), object(6)\n",
            "memory usage: 1.4+ KB\n"
          ],
          "name": "stdout"
        }
      ]
    },
    {
      "cell_type": "code",
      "metadata": {
        "colab": {
          "base_uri": "https://localhost:8080/",
          "height": 52
        },
        "id": "o9mS6CqT7bMe",
        "outputId": "90109f3d-c688-42e3-965b-95f97f9c50ac"
      },
      "source": [
        "df['Review_tokenized'].iloc[10]\n"
      ],
      "execution_count": null,
      "outputs": [
        {
          "output_type": "execute_result",
          "data": {
            "application/vnd.google.colaboratory.intrinsic+json": {
              "type": "string"
            },
            "text/plain": [
              "'อัพเดทราคา,ชาบูชิ,ตอน,399,บาท,net,ทาน,1.,15,ชม.,น้ำซุป,เลือก,4,รส,ซูชิลาย,ตา,เทมปุระ,ทาน,เพลิน,ดี,ยืน,ทาน,ไลน์,คาว,บุฟเฟ่ต์,กุ้ง,สด,เบ,เนื้อ,สไลด์,หลัก,อิ่ม,คุ้ม'"
            ]
          },
          "metadata": {
            "tags": []
          },
          "execution_count": 8
        }
      ]
    },
    {
      "cell_type": "code",
      "metadata": {
        "colab": {
          "base_uri": "https://localhost:8080/",
          "height": 666
        },
        "id": "3x48k7PU7e3M",
        "outputId": "d0ca469e-ec66-46af-c84a-71f4dd4d4ed7"
      },
      "source": [
        "df.tail()"
      ],
      "execution_count": null,
      "outputs": [
        {
          "output_type": "execute_result",
          "data": {
            "text/html": [
              "<div>\n",
              "<style scoped>\n",
              "    .dataframe tbody tr th:only-of-type {\n",
              "        vertical-align: middle;\n",
              "    }\n",
              "\n",
              "    .dataframe tbody tr th {\n",
              "        vertical-align: top;\n",
              "    }\n",
              "\n",
              "    .dataframe thead th {\n",
              "        text-align: right;\n",
              "    }\n",
              "</style>\n",
              "<table border=\"1\" class=\"dataframe\">\n",
              "  <thead>\n",
              "    <tr style=\"text-align: right;\">\n",
              "      <th></th>\n",
              "      <th>Review ID</th>\n",
              "      <th>Restaurant_ID</th>\n",
              "      <th>Restaurant</th>\n",
              "      <th>User</th>\n",
              "      <th>Headline</th>\n",
              "      <th>Review</th>\n",
              "      <th>Rating</th>\n",
              "      <th>Review_tokenized</th>\n",
              "    </tr>\n",
              "  </thead>\n",
              "  <tbody>\n",
              "    <tr>\n",
              "      <th>16</th>\n",
              "      <td>17</td>\n",
              "      <td>436045MJ-ข้าน้อยขอชาบู</td>\n",
              "      <td>ข้าน้อยขอชาบู</td>\n",
              "      <td>ployynp</td>\n",
              "      <td>บุฟเฟ่ต์ชาบูและพิซซ่าไม่อั้นในราคา 199 บาท เน้...</td>\n",
              "      <td>หลังจากที่เคยลองสาขายูเนี่ยนมอลล์ไป รอบนี้มาที...</td>\n",
              "      <td>4.0</td>\n",
              "      <td>ลอง,สาขา,ยู,เนี่ยน,มอลล์,รอบ,สาขา,เดอะมอลล์,บา...</td>\n",
              "    </tr>\n",
              "    <tr>\n",
              "      <th>17</th>\n",
              "      <td>18</td>\n",
              "      <td>436045MJ-ข้าน้อยขอชาบู</td>\n",
              "      <td>ข้าน้อยขอชาบู</td>\n",
              "      <td>27a91236fe5e4559a4f097c97a480781</td>\n",
              "      <td>ร้านบุฟเฟ่ต์ ราคามิตรภาพ อยู่ชั้น4 ติดโรงหนัง ...</td>\n",
              "      <td>ร้านบุฟเฟ่ต์ที่มีโปรโมชั่นหัวละ199บาท ไม่รวมน้...</td>\n",
              "      <td>4.0</td>\n",
              "      <td>บุฟเฟ่ต์,โปรโมชั่น,หัว,199,บาท,น้ำ,รวมVAT,ทาน,...</td>\n",
              "    </tr>\n",
              "    <tr>\n",
              "      <th>18</th>\n",
              "      <td>19</td>\n",
              "      <td>436045MJ-ข้าน้อยขอชาบู</td>\n",
              "      <td>ข้าน้อยขอชาบู</td>\n",
              "      <td>0b81d251e4db486f9bcdba73b374ed99</td>\n",
              "      <td>ของหลากหลาย ปนๆ งงๆ นิดหน่อย</td>\n",
              "      <td>เคยรู้จักร้านนี้จากที่ union mall ไม่เคยได้ลอง...</td>\n",
              "      <td>3.0</td>\n",
              "      <td>รู้จัก,union,mall,ลอง,กิน,ขึ้นใจ,ชื่อ,ชื่อ,อยู...</td>\n",
              "    </tr>\n",
              "    <tr>\n",
              "      <th>19</th>\n",
              "      <td>20</td>\n",
              "      <td>436045MJ-ข้าน้อยขอชาบู</td>\n",
              "      <td>ข้าน้อยขอชาบู</td>\n",
              "      <td>40e0e087f3914fd49a8933b5a29936ca</td>\n",
              "      <td>อร่อยมากค่ะ คุ้มค่าสมราคา บุฟเฟ่หมูผักต่างๆ รว...</td>\n",
              "      <td>อร่อยมากค่ะ คุ้มค่าสมราคา บุฟเฟ่หมูผักต่างๆ รว...</td>\n",
              "      <td>5.0</td>\n",
              "      <td>อร่อย,คุ้ม,ค่า,สมราคา,บุฟเฟ่,หมู,ผัก,น้ำ,จบ,25...</td>\n",
              "    </tr>\n",
              "    <tr>\n",
              "      <th>20</th>\n",
              "      <td>21</td>\n",
              "      <td>436045MJ-ข้าน้อยขอชาบู</td>\n",
              "      <td>ข้าน้อยขอชาบู</td>\n",
              "      <td>41841cb99ea243a3a8d4b006e946c586</td>\n",
              "      <td>แม้จะแปลกบ้าง แต่ก็ถือว่าอยู่ในเกณฑ์ที่ดี มีอา...</td>\n",
              "      <td>ก็ตามที่เขียนเลยครับ ว่า ถ้าจะจ่ายในราคา 199 บ...</td>\n",
              "      <td>NaN</td>\n",
              "      <td>จ่าย,ราคา,199,บาท,จ่าย,เงิน,สด,ราคา,น้ำ,VAT 7,...</td>\n",
              "    </tr>\n",
              "  </tbody>\n",
              "</table>\n",
              "</div>"
            ],
            "text/plain": [
              "    Review ID  ...                                   Review_tokenized\n",
              "16         17  ...  ลอง,สาขา,ยู,เนี่ยน,มอลล์,รอบ,สาขา,เดอะมอลล์,บา...\n",
              "17         18  ...  บุฟเฟ่ต์,โปรโมชั่น,หัว,199,บาท,น้ำ,รวมVAT,ทาน,...\n",
              "18         19  ...  รู้จัก,union,mall,ลอง,กิน,ขึ้นใจ,ชื่อ,ชื่อ,อยู...\n",
              "19         20  ...  อร่อย,คุ้ม,ค่า,สมราคา,บุฟเฟ่,หมู,ผัก,น้ำ,จบ,25...\n",
              "20         21  ...  จ่าย,ราคา,199,บาท,จ่าย,เงิน,สด,ราคา,น้ำ,VAT 7,...\n",
              "\n",
              "[5 rows x 8 columns]"
            ]
          },
          "metadata": {
            "tags": []
          },
          "execution_count": 9
        }
      ]
    },
    {
      "cell_type": "markdown",
      "metadata": {
        "id": "Jw_iyWtl7r68"
      },
      "source": [
        "\n",
        "Create Dictionary"
      ]
    },
    {
      "cell_type": "code",
      "metadata": {
        "id": "JS417Gs07se6"
      },
      "source": [
        "# documents = df['Review_tokenized'].to_list()\n",
        "documents = df['Review_tokenized']\n",
        "texts = [[text for text in doc.split(',')] for doc in documents]\n",
        "dictionary = gensim.corpora.Dictionary(texts)"
      ],
      "execution_count": null,
      "outputs": []
    },
    {
      "cell_type": "code",
      "metadata": {
        "colab": {
          "base_uri": "https://localhost:8080/"
        },
        "id": "W_Pw2c9G7yJ7",
        "outputId": "3af320a8-13f6-47c5-fa46-dadc880d928a"
      },
      "source": [
        "print(dictionary.token2id.keys())"
      ],
      "execution_count": null,
      "outputs": [
        {
          "output_type": "stream",
          "text": [
            "dict_keys(['1', '4', '560', 'กิน', 'ก็รสชาติ', 'คอ', 'คุณภาพ', 'คุ้ม', 'จำกัด', 'จิ้ม', 'ซุป', 'ดี', 'ติม', 'ต้องการ', 'ถาด', 'ถาม', 'น้ำ', 'บริการ', 'บริการรสชาติ', 'บาท', 'ประทับใจ', 'พนักงาน', 'รสชาติ', 'รัก', 'ราคา', 'ร่อย', 'ละกัน', 'สรุป', 'สะอาด', 'สะอ้าน', 'สัน', 'อร่อย', 'อาหาร', 'เคลม', 'เจี้ยว', 'เซ็ท', 'เต้า', 'เนื้อ', 'เป็ด', 'เผ็ด', 'แปลก', 'แฟน', 'โมจิอ', 'ใจ', 'ใส่', 'ไอ', '\\u200b ', '\\u200bกับ', '\\u200bดำ', '\\u200bดี', '\\u200bพอ', '\\u200bภาพ', '\\u200bหลากหลาย', '\\u200bแต่', '\\u200bใหม่', '\\u200bไม่', '21', '30', '9', 'CTW', 'Terminal', 'การงดรับ', 'งาน', 'ชาบู', 'ญี่ปุ่น', 'ฐาน', 'ดื่ม', 'ทะยอย', 'ทาน', 'ทำ', 'นาที', 'นึก', 'พระราม', 'พรีเมียม', 'พาราไดซ์', 'มาตรา', 'รายละเอียด', 'ลูกค้า', 'สาขา', 'สู้', 'ออร์เดอร์', 'เครื่อง', 'เค้า', 'เจอ', 'เหวี่ยง', 'แจ้ง', 'โม', 'โม่', 'โอกาส', 'โอเค', '', '2', '555', '600+', 'กก', 'กรุบ', 'กั้น', 'คน', 'คาว', 'คุโรบู', 'ค่ะ', 'ค่า', 'จาน', 'จืด', 'ฉาก', 'ชอบ', 'ชา', 'ชาบูน้ำดำ', 'ชิ้น', 'ชื่อ', 'ซอยซอส', 'ตก', 'ตะ', 'ตัก', 'ตัว', 'ถั่ว', 'ถ่าย', 'นั่ง', 'นุ่ม', 'นุ่มลิ้น', 'น้ำจิ้ม', 'บด', 'บาร์ผัก', 'ฟูกุ', 'ภาษา', 'มาก', 'รส', 'รูป', 'รู้สึก', 'ลอง', 'ลืม', 'วัว', 'สด', 'สตอเบอรี่', 'สัตว์', 'สั่ง', 'สามรส', 'หนึบ', 'หมู', 'หม้อ', 'หวาน', 'อย่าง', 'เขียว', 'เข้มข้น', 'เค็ม', 'เลือก', 'เสิร์ฟ', 'เหนียว', 'เห็ด', 'แดง', 'แตกต่าง', 'แตา', 'แนว', 'แย้ววว', 'แล้ว', 'โควิด', 'โต๊ะ', 'ใส', 'ไก่', 'ไข่', 'ได', 'ไผ่', 'ไม้', 'ไหว', '3', 'ข้าว', 'จ่าย', 'ถ้วย', 'ธรรมดา', 'นะ', 'รสชาเขียว', 'ออส', 'เลี่ยน', 'โปรมา', 'โหด', 'ไว', 'ไอศกรีม', 'กลิ่น', 'ขนม', 'ตัดสิน', 'ผัก', 'ลูก', 'สบายดี', 'หน้า', 'หลากหลาย', 'หอม', 'เครดิต', 'เดิน', 'เด็ก', 'เนื้อต่าง', 'เส้น', 'เหมือน', 'แคบ', 'โปรบัตร', 'คะ', 'บุฟเฟ่', 'บ๋วยอร่อย', 'พอนซึ', 'สาย', 'หยิบ', 'โซน', 'โปรโมชั่น', ')', '20', '4.0/', '5', '600', 'Menu ', 'Number', 'กรรมวิธี', 'กะปิ', 'คะแนน', 'ชนิด', 'ชุด', 'บุฟเฟ่ต์', 'ประยุคก์', 'พาราไดส์', 'สุกี้', 'สุกี้ชาบูน้ำดำ', 'สไตล์', 'เดอะมอล', 'เดิม', 'เมนู', 'แบบฉบับ', 'แบ่ง', 'โมโม', 'โมโมฯ', 'ไทย', '500', 'กาแฟ', 'กี้', 'ครีม', 'ชาบูเฟรนไชส์รสชาติ', 'ตอน', 'ตำครับ', 'ติด', 'ทั่วไป', 'บ๊วย', 'ปกติ', 'ร้อน', 'ลุย', 'สุกี้ยา', 'ส่งน', 'อยู่แล้ว', 'ออสเตรเลีย', 'เริ่มงวด', 'เรื่อง', 'เหมาะสม', 'แนะนำ', 'โชยุหวาน', 'ไอศ', ' าน', '..', '399', 'กุ้ง', 'ขา', 'งั้น', 'ซูชิ', 'ซ่า', 'ตา', 'นิดนึง', 'บูชิ', 'ปู', 'ละลาน', 'สายพาน', 'หิว', 'อัด', 'ฮ่า', 'เกี๊ยว', 'เทมปุระ', 'เทียบ', 'เล่น', 'แพง', 'กลาย', 'กี่', 'ชั่วคราว', 'ชาบูชิ', 'ชื่นใจ', 'ญี่ปุน', 'ดึก', 'ตบ', 'ทอด', 'ท้าย', 'น้ะ', 'ปลา', 'ปุระ', 'สมใจ', 'หลัก', 'หวัง', 'อย่า', 'เติม', 'เทม', 'เย็น', 'เสริม', '1.', '15', 'net', 'ชม.', 'ซูชิลาย', 'น้ำซุป', 'ยืน', 'สไลด์', 'อัพเดทราคา', 'อิ่ม', 'เบ', 'เพลิน', 'ไลน์', ' Net/คน', '359', 'G', 'Shabushi', 'กด', 'กรอบ', 'กรีม', 'กุ้งเทมปุระ', 'ข่าว', 'ครึ่ง', 'คิว', 'จุ', 'ชั่วโมง', 'ชั้น', 'ชื่น', 'ดิบ', 'ดู', 'ตักไอ', 'ตับ', 'ตั้งใจ', 'ติง', 'ติมวานิลา', 'ถนน', 'ทิ้ง', 'นิด', 'นี้', 'นุ่มดี', 'น้ำฝรั่ง', 'น้ำมัน', 'บิล', 'ปอก', 'ฝั่ง', 'มื้อ', 'รอ', 'ระดับ', 'รายการ', 'ลด', 'ลา', 'วาง', 'วานิลา', 'สาร', 'สาเหตุ', 'สำหรับ', 'สไปรท์', 'หนา', 'หยุด', 'หอยตลับ', 'หา', 'หาย', 'ห่าง', 'ห้าง', 'อม', 'อาทิตย์', 'เช็ค', 'เดอะมอลล์', 'เด่น', 'เด้ง', 'เนื่อง', 'เบคอน', 'เปรี้ยว', 'เปลือก', 'เพื่อน', 'เลิก', 'เวลา', 'เสาร์', 'แก้ว', 'แถม', 'แน่น', 'แป้ง', 'แย่', 'แออัด', 'โดน', 'โฟลต', 'โอเด้ง', 'ได้ยิน', 'ไหร่', ':15', 'ชอคโกแลต', 'นัด', 'พอสมควร', 'มะนาว', 'วนิลา ', 'สตอเบอร์รี่', 'หมุสไลด์', 'หลากรส', 'อยุ่', 'ฯ', 'เดอะแกงค์', 'เอย', 'ใหม่', 'ขยัน', 'จอง', 'ชูชิ', 'บางกะปิ', 'บุฟเฟต์', 'ประตูปทาง', 'พลาด', 'พาน', 'พี่', 'รอบ', 'ร้อย', 'สาม', 'สุดท้าย', 'หล่ะ', 'อารามณ์', 'เต็ม', 'โชค', 'โอเคนะ', 'ข้อ', 'ทั่วถึง', 'นํ้า', 'บุฟเฟขวัญใจ', 'มี่', 'ระบบ', 'รีวิว', 'สวัสดี', 'เก้บ', '^^', 'xx', 'กลยุทธ์', 'ขนาด', 'ข้น', 'คณะ', 'ชอป', 'ซุ้ม', 'ดำ', 'ด้วย', 'ตรงข้าม', 'ต้ม', 'ต้มยำ', 'ท่าน', 'บริเวณ', 'บัตร', 'ประตู', 'ปรับปรุง', 'ปั้น', 'ยอด', 'ยาวหน้า', 'ลาน', 'สมาชิก', 'สลัด', 'หมู่', 'อิอิ', 'เครือโออิชิลด', 'เคลื่อน', 'เคาน์เตอร์', 'เบา', 'เลย', 'แมคโดนัล', 'โชคชะตา', 'โน้น', ' HALL', ' ธรรมดา', '199', '39', '40', '49', 'MCC', 'คุ้มดี', 'ค่าย', 'นาราย', 'พิซซ่า', 'พิซเซอเรีย', 'มวย', 'มอลล์', 'ยู', 'รีฟีล', 'เขียวหวาน', 'เนี่ยน', 'แกง', 'แน่นอน', 'แวะ', '10', '300', '6', 'กำเงิน', 'ช่อง', 'ซี', 'ทอน', 'นารายพิซเซอเรีย', 'น้ำซึป', 'ประกัน', 'ฟู้ด', 'รวมVAT', 'ลอตเตอรี่', 'สัปดาห์', 'หวย', 'หัว', 'อันนึง', 'แลกฮัน', 'โทสฟรี', 'Narai pizzeria', 'mall', 'pizza', 'union', 'ขึ้นใจ', 'ตัด', 'ตู้', 'นิวออลีน', 'ปรุง', 'รู้จัก', 'สปาเกตตี้', 'สั่งเอา', 'สุก', '128', '255', '29', 'กาไก่', 'จบ', 'จุก', 'บราว', 'พิซซ่าบุพเฟ่', 'รสชาต', 'วิปครีม', 'สมราคา', 'สวย', 'อร่อยยมาก', 'เซตไอ', 'เด็ด', 'เรย', 'เริส', 'เเบบ', 'เเป้ง', 'VAT 7', 'ทดแทน', 'ปรกติ', 'เงิน', 'เนื้อวัว', 'เป็นต้น'])\n"
          ],
          "name": "stdout"
        }
      ]
    },
    {
      "cell_type": "code",
      "metadata": {
        "id": "mOXfxOuP71K1"
      },
      "source": [
        "gensim_corpus = [dictionary.doc2bow(text, allow_update=True) for text in texts]\n",
        "word_frequencies = [[(dictionary[id], frequence) for id, frequence in couple] for couple in gensim_corpus]"
      ],
      "execution_count": null,
      "outputs": []
    },
    {
      "cell_type": "markdown",
      "metadata": {
        "id": "wLCl4e-58LFb"
      },
      "source": [
        "Topic Modelling"
      ]
    },
    {
      "cell_type": "code",
      "metadata": {
        "colab": {
          "base_uri": "https://localhost:8080/"
        },
        "id": "VYEV_Hie8NVj",
        "outputId": "1e3f384c-b56f-450c-91e2-26b64353543c"
      },
      "source": [
        "num_topics = 5\n",
        "chunksize = 4000 # size of the doc looked at every pass\n",
        "passes = 20 # number of passes through documents\n",
        "iterations = 100\n",
        "eval_every = 1  # Don't evaluate model perplexity, takes too much time.\n",
        "\n",
        "# Make a index to word dictionary.\n",
        "temp = dictionary[0]  # This is only to \"load\" the dictionary.\n",
        "id2word = dictionary.id2token\n",
        "\n",
        "%time model = gensim.models.LdaModel(corpus=gensim_corpus, id2word=id2word, chunksize=chunksize, \\\n",
        "                       alpha='auto', eta='auto', \\\n",
        "                       iterations=iterations, num_topics=num_topics, \\\n",
        "                       passes=passes, eval_every=eval_every)"
      ],
      "execution_count": null,
      "outputs": [
        {
          "output_type": "stream",
          "text": [
            "CPU times: user 328 ms, sys: 140 µs, total: 329 ms\n",
            "Wall time: 334 ms\n"
          ],
          "name": "stdout"
        }
      ]
    },
    {
      "cell_type": "code",
      "metadata": {
        "colab": {
          "base_uri": "https://localhost:8080/",
          "height": 881
        },
        "id": "36Zhl8LU8Rx1",
        "outputId": "5b494cdb-962b-4484-d10a-369c4fa2c206"
      },
      "source": [
        "# pyLDAvis.gensim.prepare(model, gensim_corpus, dictionary)\n",
        "gensimvis.prepare(model, gensim_corpus, dictionary)"
      ],
      "execution_count": null,
      "outputs": [
        {
          "output_type": "execute_result",
          "data": {
            "text/html": [
              "\n",
              "<link rel=\"stylesheet\" type=\"text/css\" href=\"https://cdn.jsdelivr.net/gh/bmabey/pyLDAvis@3.3.1/pyLDAvis/js/ldavis.v1.0.0.css\">\n",
              "\n",
              "\n",
              "<div id=\"ldavis_el7421405048020621608688164142\"></div>\n",
              "<script type=\"text/javascript\">\n",
              "\n",
              "var ldavis_el7421405048020621608688164142_data = {\"mdsDat\": {\"x\": [0.05068737534268488, -0.056323006322071295, -0.006280664235661877, 0.011005693429318139, 0.0009106017857301978], \"y\": [-0.030147846476151968, -0.02329400939383069, 0.023207594372089798, 0.03312048260858805, -0.002886221110695159], \"topics\": [1, 2, 3, 4, 5], \"cluster\": [1, 1, 1, 1, 1], \"Freq\": [37.93757561910727, 30.942345998633247, 14.930889293944642, 13.611507483673414, 2.5776816046414246]}, \"tinfo\": {\"Term\": [\"\\u0e14\\u0e35\", \"\\u0e17\\u0e32\\u0e19\", \"\\u0e40\\u0e25\\u0e37\\u0e2d\\u0e01\", \"\\u0e2d\\u0e23\\u0e48\\u0e2d\\u0e22\", \"\\u0e2d\\u0e32\\u0e2b\\u0e32\\u0e23\", \"\\u0e40\\u0e19\\u0e37\\u0e49\\u0e2d\", \"\\u0e01\\u0e34\\u0e19\", \"\\u0e19\\u0e49\\u0e33\", \"\\u0e04\\u0e38\\u0e49\\u0e21\", \"\\u0e0b\\u0e38\\u0e1b\", \"\\u0e23\\u0e32\\u0e04\\u0e32\", \"\\u0e1a\\u0e23\\u0e34\\u0e01\\u0e32\\u0e23\", \"\\u0e2a\\u0e32\\u0e02\\u0e32\", \"\\u0e1a\\u0e32\\u0e17\", \"\\u0e04\\u0e19\", \"\\u0e40\\u0e21\\u0e19\\u0e39\", \"\\u0e08\\u0e34\\u0e49\\u0e21\", \"\", \"\\u0e0a\\u0e32\\u0e1a\\u0e39\", \"\\u0e2a\\u0e32\\u0e22\", \"\\u0e0a\\u0e32\\u0e1a\\u0e39\\u0e0a\\u0e34\", \"\\u0e25\\u0e2d\\u0e07\", \"\\u0e04\\u0e48\\u0e32\", \"\\u0e2b\\u0e22\\u0e34\\u0e1a\", \"\\u0e1e\\u0e32\\u0e19\", \"\\u0e14\\u0e39\", \"\\u0e08\\u0e32\\u0e19\", \"\\u0e1e\\u0e19\\u0e31\\u0e01\\u0e07\\u0e32\\u0e19\", \"\\u0e15\\u0e2d\\u0e19\", \"\\u0e0a\\u0e2d\\u0e1a\", \"\\u0e1a\\u0e38\\u0e1f\\u0e40\\u0e1f\\u0e48\", \"\\u0e17\\u0e49\\u0e32\\u0e22\", \"\\u0e0a\\u0e31\\u0e48\\u0e27\\u0e42\\u0e21\\u0e07\", \"\\u0e02\\u0e22\\u0e31\\u0e19\", \"\\u0e42\\u0e0a\\u0e04\", \"\\u0e1a\\u0e38\\u0e1f\\u0e40\\u0e1f\\u0e15\\u0e4c\", \"\\u0e1b\\u0e38\\u0e23\\u0e30\", \"\\u0e40\\u0e17\\u0e21\", \"\\u0e1e\\u0e2d\\u0e19\\u0e0b\\u0e36\", \"\\u0e15\\u0e1a\", \"\\u0e40\\u0e19\\u0e37\\u0e48\\u0e2d\\u0e07\", \"\\u0e40\\u0e25\\u0e34\\u0e01\", \"\\u0e04\\u0e23\\u0e36\\u0e48\\u0e07\", \"\\u0e2d\\u0e22\\u0e48\\u0e32\", \"\\u0e2b\\u0e27\\u0e31\\u0e07\", \"Shabushi\", \"\\u0e1b\\u0e25\\u0e32\", \"5\", \"\\u0e0a\\u0e37\\u0e48\\u0e19\", \"\\u0e42\\u0e14\\u0e19\", \"\\u0e1b\\u0e2d\\u0e01\", \"\\u0e40\\u0e0a\\u0e47\\u0e04\", \"\\u0e1a\\u0e34\\u0e25\", \"\\u0e40\\u0e1b\\u0e25\\u0e37\\u0e2d\\u0e01\", \"\\u0e1c\\u0e31\\u0e01\", \"\\u0e04\\u0e48\\u0e30\", \"\\u0e01\\u0e38\\u0e49\\u0e07\", \"\\u0e23\\u0e2d\", \"\\u0e1b\\u0e23\\u0e38\\u0e07\", \"\\u0e23\\u0e39\\u0e49\\u0e08\\u0e31\\u0e01\", \"\\u0e04\\u0e34\\u0e27\", \"\\u0e2a\\u0e33\\u0e2b\\u0e23\\u0e31\\u0e1a\", \"\\u0e01\\u0e34\\u0e19\", \"\\u0e2a\\u0e14\", \"\\u0e04\\u0e19\", \"\\u0e14\\u0e35\", \"\\u0e40\\u0e27\\u0e25\\u0e32\", \"\\u0e2b\\u0e27\\u0e32\\u0e19\", \"\\u0e2d\\u0e32\\u0e2b\\u0e32\\u0e23\", \"\\u0e14\\u0e39\", \"\\u0e15\\u0e31\\u0e27\", \"\\u0e2b\\u0e2d\\u0e21\", \"\\u0e23\\u0e32\\u0e04\\u0e32\", \"\\u0e40\\u0e19\\u0e37\\u0e49\\u0e2d\", \"\\u0e2a\\u0e32\\u0e02\\u0e32\", \"\\u0e23\\u0e39\\u0e49\\u0e2a\\u0e36\\u0e01\", \"\\u0e1e\\u0e19\\u0e31\\u0e01\\u0e07\\u0e32\\u0e19\", \"\\u0e2b\\u0e22\\u0e34\\u0e1a\", \"\\u0e17\\u0e32\\u0e19\", \"\\u0e2b\\u0e21\\u0e39\", \"\\u0e2b\\u0e49\\u0e32\\u0e07\", \"\\u0e43\\u0e08\", \"\\u0e04\\u0e38\\u0e49\\u0e21\", \"\\u0e40\\u0e25\\u0e37\\u0e2d\\u0e01\", \"\\u0e19\\u0e49\\u0e33\", \"\\u0e2d\\u0e23\\u0e48\\u0e2d\\u0e22\", \"\\u0e40\\u0e21\\u0e19\\u0e39\", \"\\u0e08\\u0e34\\u0e49\\u0e21\", \"\\u0e0a\\u0e32\\u0e1a\\u0e39\", \"\\u0e15\\u0e34\\u0e21\", \"\\u0e0a\\u0e2d\\u0e1a\", \"\\u0e1a\\u0e32\\u0e17\", \"\\u0e23\\u0e2a\\u0e0a\\u0e32\\u0e15\\u0e34\", \"\", \"199\", \"\\u0e1e\\u0e34\\u0e0b\\u0e0b\\u0e48\\u0e32\", \"\\u0e0a\\u0e21.\", \"\\u0e40\\u0e2b\\u0e47\\u0e14\", \"\\u0e41\\u0e19\\u0e48\\u0e19\\u0e2d\\u0e19\", \"\\u0e2b\\u0e27\\u0e22\", \"\\u0e40\\u0e1a\", \"\\u0e2d\\u0e34\\u0e48\\u0e21\", \"\\u0e40\\u0e02\\u0e49\\u0e21\\u0e02\\u0e49\\u0e19\", \"\\u0e04\\u0e32\\u0e27\", \"\\u0e1f\\u0e39\\u0e01\\u0e38\", \"\\u0e44\\u0e1c\\u0e48\", \"\\u0e44\\u0e14\", \"\\u0e44\\u0e21\\u0e49\", \"\\u0e19\\u0e49\\u0e33\\u0e08\\u0e34\\u0e49\\u0e21\", \"40\", \" \\u0e18\\u0e23\\u0e23\\u0e21\\u0e14\\u0e32\", \"39\", \"\\u0e40\\u0e02\\u0e35\\u0e22\\u0e27\\u0e2b\\u0e27\\u0e32\\u0e19\", \"\\u0e04\\u0e38\\u0e49\\u0e21\\u0e14\\u0e35\", \"\\u0e41\\u0e27\\u0e30\", \"\\u0e01\\u0e33\\u0e40\\u0e07\\u0e34\\u0e19\", \"\\u0e22\\u0e39\", \"\\u0e1f\\u0e39\\u0e49\\u0e14\", \"\\u0e0b\\u0e35\", \" HALL\", \"MCC\", \"\\u0e40\\u0e19\\u0e35\\u0e48\\u0e22\\u0e19\", \"\\u0e1e\\u0e34\\u0e0b\\u0e40\\u0e0b\\u0e2d\\u0e40\\u0e23\\u0e35\\u0e22\", \"\\u0e08\\u0e48\\u0e32\\u0e22\", \"\\u0e0b\\u0e38\\u0e1b\", \"2\", \"\\u0e1a\\u0e38\\u0e1f\\u0e40\\u0e1f\\u0e48\\u0e15\\u0e4c\", \"\\u0e2a\\u0e31\\u0e48\\u0e07\", \"\\u0e1a\\u0e32\\u0e17\", \"\\u0e23\\u0e2a\\u0e0a\\u0e32\\u0e15\\u0e34\", \"\\u0e17\\u0e32\\u0e19\", \"\\u0e19\\u0e49\\u0e33\", \"\\u0e27\\u0e31\\u0e27\", \"\\u0e0a\\u0e32\\u0e1a\\u0e39\\u0e19\\u0e49\\u0e33\\u0e14\\u0e33\", \"\\u0e2d\\u0e23\\u0e48\\u0e2d\\u0e22\", \"\\u0e40\\u0e25\\u0e37\\u0e2d\\u0e01\", \"\\u0e40\\u0e19\\u0e37\\u0e49\\u0e2d\", \"\\u0e25\\u0e2d\\u0e07\", \"\\u0e23\\u0e32\\u0e04\\u0e32\", \"\\u0e0b\\u0e39\\u0e0a\\u0e34\", \"\\u0e04\\u0e19\", \"\\u0e2b\\u0e27\\u0e32\\u0e19\", \"\\u0e2a\\u0e14\", \"\\u0e2d\\u0e32\\u0e2b\\u0e32\\u0e23\", \"\\u0e15\\u0e2d\\u0e19\", \"\\u0e14\\u0e35\", \"\\u0e04\\u0e38\\u0e49\\u0e21\", \"\\u0e44\\u0e01\\u0e48\", \"\\u0e01\\u0e34\\u0e19\", \"\\u0e0a\\u0e2d\\u0e1a\", \"\\u0e2b\\u0e21\\u0e39\", \"\\u0e2a\\u0e32\\u0e02\\u0e32\", \"\\u200b \", \"\\u0e01\\u0e47\\u0e23\\u0e2a\\u0e0a\\u0e32\\u0e15\\u0e34\", \"\\u0e2a\\u0e31\\u0e19\", \"\\u0e1b\\u0e23\\u0e30\\u0e17\\u0e31\\u0e1a\\u0e43\\u0e08\", \"\\u0e42\\u0e2b\\u0e14\", \"\\u0e23\\u0e2a\\u0e0a\\u0e32\\u0e40\\u0e02\\u0e35\\u0e22\\u0e27\", \"\\u0e2d\\u0e2d\\u0e2a\", \"\\u0e40\\u0e25\\u0e35\\u0e48\\u0e22\\u0e19\", \"\\u0e42\\u0e1b\\u0e23\\u0e21\\u0e32\", \"\\u0e19\\u0e30\", \"\\u0e44\\u0e27\", \"\\u0e16\\u0e49\\u0e27\\u0e22\", \"\\u0e2d\\u0e2d\\u0e2a\\u0e40\\u0e15\\u0e23\\u0e40\\u0e25\\u0e35\\u0e22\", \"\\u0e2a\\u0e48\\u0e07\\u0e19\", \"\\u0e2a\\u0e38\\u0e01\\u0e35\\u0e49\\u0e22\\u0e32\", \"\\u0e0a\\u0e32\\u0e1a\\u0e39\\u0e40\\u0e1f\\u0e23\\u0e19\\u0e44\\u0e0a\\u0e2a\\u0e4c\\u0e23\\u0e2a\\u0e0a\\u0e32\\u0e15\\u0e34\", \"\\u0e40\\u0e23\\u0e34\\u0e48\\u0e21\\u0e07\\u0e27\\u0e14\", \"\\u0e42\\u0e0a\\u0e22\\u0e38\\u0e2b\\u0e27\\u0e32\\u0e19\", \"\\u0e17\\u0e31\\u0e48\\u0e27\\u0e44\\u0e1b\", \"\\u0e25\\u0e30\\u0e01\\u0e31\\u0e19\", \"\\u0e04\\u0e23\\u0e35\\u0e21\", \"\\u0e1a\\u0e4a\\u0e27\\u0e22\", \"500\", \"560\", \"\\u200b\\u0e01\\u0e31\\u0e1a\", \"\\u0e01\\u0e32\\u0e41\\u0e1f\", \"\\u0e1b\\u0e01\\u0e15\\u0e34\", \"\\u0e25\\u0e38\\u0e22\", \"\\u0e40\\u0e1c\\u0e47\\u0e14\", \"\\u0e40\\u0e08\\u0e35\\u0e49\\u0e22\\u0e27\", \"\\u0e04\\u0e2d\", \"\\u0e19\\u0e31\\u0e48\\u0e07\", \"\\u0e0a\\u0e32\\u0e1a\\u0e39\", \"\\u0e14\\u0e35\", \"\\u0e19\\u0e49\\u0e33\", \"\\u0e01\\u0e34\\u0e19\", \"\\u0e1a\\u0e23\\u0e34\\u0e01\\u0e32\\u0e23\", \"\\u0e40\\u0e19\\u0e37\\u0e49\\u0e2d\", \"\\u0e2d\\u0e23\\u0e48\\u0e2d\\u0e22\", \"\\u0e0a\\u0e2d\\u0e1a\", \"\\u0e41\\u0e19\\u0e30\\u0e19\\u0e33\", \"4\", \"\\u0e2d\\u0e32\\u0e2b\\u0e32\\u0e23\", \"\\u0e19\\u0e36\\u0e01\", \"\\u0e23\\u0e32\\u0e04\\u0e32\", \"\\u0e0b\\u0e38\\u0e1b\", \"\\u0e04\\u0e38\\u0e13\\u0e20\\u0e32\\u0e1e\", \"\\u0e40\\u0e25\\u0e37\\u0e2d\\u0e01\", \"\\u0e04\\u0e38\\u0e49\\u0e21\", \"\\u0e08\\u0e34\\u0e49\\u0e21\", \"\\u0e2a\\u0e32\\u0e02\\u0e32\", \"\\u0e43\\u0e08\", \"\\u0e1a\\u0e32\\u0e17\", \"\\u0e17\\u0e32\\u0e19\", \"\\u0e2a\\u0e31\\u0e48\\u0e07\", \"2\", \"\\u0e15\\u0e31\\u0e27\", \"\\u0e1e\\u0e19\\u0e31\\u0e01\\u0e07\\u0e32\\u0e19\", \"\\u0e04\\u0e48\\u0e32\", \"\\u0e23\\u0e2a\\u0e0a\\u0e32\\u0e15\\u0e34\", \"\\u0e15\\u0e2d\\u0e19\", \"\\u0e04\\u0e19\", \"\\u0e40\\u0e25\\u0e48\\u0e19\", \"\\u0e41\\u0e08\\u0e49\\u0e07\", \"\\u0e17\\u0e30\\u0e22\\u0e2d\\u0e22\", \"\\u0e1e\\u0e23\\u0e30\\u0e23\\u0e32\\u0e21\", \"Terminal\", \"21\", \"\\u0e10\\u0e32\\u0e19\", \"\\u0e40\\u0e04\\u0e49\\u0e32\", \"\\u0e40\\u0e04\\u0e23\\u0e37\\u0e48\\u0e2d\\u0e07\", \"\\u0e1e\\u0e23\\u0e35\\u0e40\\u0e21\\u0e35\\u0e22\\u0e21\", \"\\u0e2a\\u0e39\\u0e49\", \"\\u0e14\\u0e33\", \"\\u0e2d\\u0e34\\u0e2d\\u0e34\", \"\\u0e40\\u0e04\\u0e32\\u0e19\\u0e4c\\u0e40\\u0e15\\u0e2d\\u0e23\\u0e4c\", \"9\", \"\\u0e42\\u0e0a\\u0e04\\u0e0a\\u0e30\\u0e15\\u0e32\", \"xx\", \"\\u0e0a\\u0e2d\\u0e1b\", \"\\u0e2d\\u0e2d\\u0e23\\u0e4c\\u0e40\\u0e14\\u0e2d\\u0e23\\u0e4c\", \"\\u0e01\\u0e32\\u0e23\\u0e07\\u0e14\\u0e23\\u0e31\\u0e1a\", \"\\u0e2a\\u0e21\\u0e32\\u0e0a\\u0e34\\u0e01\", \"\\u0e15\\u0e49\\u0e21\", \"\\u0e40\\u0e1a\\u0e32\", \"\\u0e1e\\u0e32\\u0e23\\u0e32\\u0e44\\u0e14\\u0e0b\\u0e4c\", \"\\u0e0b\\u0e38\\u0e49\\u0e21\", \"\\u0e42\\u0e19\\u0e49\\u0e19\", \"30\", \"\\u0e42\\u0e2d\\u0e01\\u0e32\\u0e2a\", \"\\u0e2a\\u0e25\\u0e31\\u0e14\", \"\\u0e15\\u0e23\\u0e07\\u0e02\\u0e49\\u0e32\\u0e21\", \"\\u0e2b\\u0e21\\u0e49\\u0e2d\", \")\", \"\\u0e2d\\u0e32\\u0e2b\\u0e32\\u0e23\", \"\\u0e1a\\u0e23\\u0e34\\u0e01\\u0e32\\u0e23\", \"\\u0e14\\u0e35\", \"\\u0e04\\u0e48\\u0e32\", \"\\u0e2a\\u0e32\\u0e02\\u0e32\", \"\\u0e1e\\u0e32\\u0e19\", \"\\u0e17\\u0e32\\u0e19\", \"\\u0e04\\u0e38\\u0e49\\u0e21\", \"\\u0e40\\u0e25\\u0e37\\u0e2d\\u0e01\", \"\\u0e2a\\u0e32\\u0e22\", \"3\", \"\\u0e2b\\u0e19\\u0e49\\u0e32\", \"\\u0e04\\u0e38\\u0e13\\u0e20\\u0e32\\u0e1e\", \"\\u0e40\\u0e21\\u0e19\\u0e39\", \"\\u0e15\\u0e2d\\u0e19\", \"\\u0e2b\\u0e49\\u0e32\\u0e07\", \"\\u0e23\\u0e32\\u0e04\\u0e32\", \"\\u0e1e\\u0e19\\u0e31\\u0e01\\u0e07\\u0e32\\u0e19\", \"\\u0e1a\\u0e32\\u0e17\", \"\\u0e40\\u0e19\\u0e37\\u0e49\\u0e2d\", \"\\u0e01\\u0e34\\u0e19\", \"\\u0e0a\\u0e32\\u0e1a\\u0e39\", \"\\u0e2d\\u0e23\\u0e48\\u0e2d\\u0e22\", \"\\u0e19\\u0e49\\u0e33\", \"\\u0e15\\u0e31\\u0e27\", \"\\u0e08\\u0e32\\u0e19\", \"\\u0e0a\\u0e32\\u0e1a\\u0e39\\u0e0a\\u0e34\", \"\\u0e15\\u0e34\\u0e21\", \"\\u0e2b\\u0e27\\u0e32\\u0e19\", \"\\u0e04\\u0e19\", \"\\u0e01\\u0e38\\u0e49\\u0e07\", \"\\u0e19\\u0e4d\\u0e49\\u0e32\", \"\\u0e17\\u0e31\\u0e48\\u0e27\\u0e16\\u0e36\\u0e07\", \"\\u0e23\\u0e35\\u0e27\\u0e34\\u0e27\", \"\\u0e23\\u0e30\\u0e1a\\u0e1a\", \"\\u0e2a\\u0e27\\u0e31\\u0e2a\\u0e14\\u0e35\", \"\\u0e1a\\u0e38\\u0e1f\\u0e40\\u0e1f\\u0e02\\u0e27\\u0e31\\u0e0d\\u0e43\\u0e08\", \"\\u0e02\\u0e49\\u0e2d\", \"\\u0e40\\u0e01\\u0e49\\u0e1a\", \"\\u0e21\\u0e35\\u0e48\", \"\\u0e25\\u0e39\\u0e01\\u0e04\\u0e49\\u0e32\", \"\\u0e15\\u0e49\\u0e2d\\u0e07\\u0e01\\u0e32\\u0e23\", \"555\", \"\\u0e1e\\u0e32\\u0e19\", \"\\u0e08\\u0e32\\u0e19\", \"\\u0e2a\\u0e32\\u0e22\", \"\\u0e0a\\u0e32\\u0e1a\\u0e39\\u0e0a\\u0e34\", \"\\u0e2b\\u0e22\\u0e34\\u0e1a\", \"\\u0e1a\\u0e23\\u0e34\\u0e01\\u0e32\\u0e23\", \"\\u0e40\\u0e21\\u0e19\\u0e39\", \"\\u0e08\\u0e34\\u0e49\\u0e21\", \"\\u0e14\\u0e39\", \"\\u0e25\\u0e2d\\u0e07\", \"\\u0e40\\u0e25\\u0e37\\u0e2d\\u0e01\", \"\\u0e2d\\u0e23\\u0e48\\u0e2d\\u0e22\", \"\\u0e04\\u0e38\\u0e49\\u0e21\", \" \\u0e32\\u0e19\", \"\\u0e1b\\u0e39\", \"\\u0e2d\\u0e31\\u0e14\", \"\\u0e1a\\u0e39\\u0e0a\\u0e34\", \"\\u0e2e\\u0e48\\u0e32\", \"\\u0e17\\u0e32\\u0e19\", \"\\u0e14\\u0e35\", \"\\u0e0b\\u0e38\\u0e1b\", \"CTW\", \"\\u0e23\\u0e31\\u0e01\", \"\\u0e02\\u0e49\\u0e32\\u0e27\", \"\\u0e19\\u0e36\\u0e01\", \"\\u0e04\\u0e19\", \"\\u0e2d\\u0e32\\u0e2b\\u0e32\\u0e23\", \"\\u0e40\\u0e19\\u0e37\\u0e49\\u0e2d\", \"\\u0e01\\u0e34\\u0e19\", \"\\u0e23\\u0e32\\u0e04\\u0e32\", \"\\u0e19\\u0e49\\u0e33\", \"\\u0e2a\\u0e32\\u0e02\\u0e32\", \"\\u0e1a\\u0e32\\u0e17\", \"\\u0e2b\\u0e27\\u0e32\\u0e19\", \"\\u0e0a\\u0e32\\u0e1a\\u0e39\", \"\\u0e15\\u0e31\\u0e27\", \"\\u0e1e\\u0e19\\u0e31\\u0e01\\u0e07\\u0e32\\u0e19\", \"\\u0e2a\\u0e14\"], \"Freq\": [28.0, 24.0, 19.0, 17.0, 21.0, 24.0, 22.0, 21.0, 13.0, 11.0, 18.0, 7.0, 12.0, 13.0, 15.0, 7.0, 6.0, 6.0, 8.0, 4.0, 5.0, 6.0, 6.0, 4.0, 3.0, 5.0, 4.0, 8.0, 7.0, 8.0, 2.667782475755224, 2.0569380525981034, 2.0878943534696206, 1.4118693782547265, 1.4167164952167421, 1.418082334647533, 1.4221478197796027, 1.4249681009994692, 1.425581047570373, 1.4311938933749504, 1.4377862496096432, 1.442023827783766, 1.4430662686068172, 1.4438964045482858, 1.4451546716286976, 1.4452221457323144, 1.4466589806425003, 1.4536652689202572, 1.4581065189256681, 1.4589861813135627, 1.4600392998567149, 1.4626747656446206, 1.46300850119416, 1.4637661649502625, 3.5506109212525088, 4.234511169412953, 7.072309302697938, 3.611350109712104, 0.7674852707218672, 0.7674907799710683, 2.975440533767272, 2.9717887534927323, 11.228282432985075, 6.624457096284998, 7.733062071163701, 12.626669372128026, 3.753991727871463, 6.336436274280812, 9.106578555521633, 3.2256072477146986, 4.3136230791978125, 2.3099305002182144, 6.789409697002616, 8.066228748125953, 4.976832177657873, 2.302326600393103, 3.635904549419241, 2.580273788631371, 7.1724322394151425, 3.4387359040437238, 2.4492995107593862, 2.4283811755249385, 4.572038899887092, 5.4297924236187, 5.744075438989579, 4.968767999940749, 2.982840875353862, 2.9514431529896594, 3.182069866337803, 2.95498429390911, 3.0310896303361705, 3.1792234587815194, 3.0421372084866194, 5.812941343223777, 2.3994792743780136, 2.399491133275434, 1.8399118260200737, 1.8804255255145794, 1.2758722762676302, 1.2758774645352517, 1.2759056294166258, 1.275905814711898, 1.296618120238214, 1.297706359371834, 1.300181626265494, 1.3019518446484395, 1.3019715785949286, 1.303132824065795, 1.3035446428082553, 0.7025237236590387, 0.7025253449926704, 0.702525808230851, 0.7025263641166675, 0.7025268273548481, 0.7025269200024841, 0.7025272905930285, 0.7025274295644827, 0.702527753831209, 0.7025292825172046, 0.7025296994315671, 0.7025297457553852, 0.7025300236982934, 0.7025302553173837, 2.6448018764811962, 6.706569670131167, 3.405767126781916, 3.970347368138634, 4.264849003140672, 6.702380514617309, 4.952304098350189, 10.904691251619452, 9.591189396769082, 2.0690879833991764, 2.0959771068242197, 7.26033719117403, 7.682621410608309, 9.008161528702853, 3.0211139682925547, 6.215068772357791, 3.0595427253842864, 4.915951389488167, 4.175522599500447, 3.898929381965822, 5.08536166859137, 2.708991679380828, 5.60290878159656, 3.6438885987216594, 2.4340107160096, 4.3206225094817885, 2.774198938620101, 2.6058659662294583, 2.9318944800243885, 1.2569352336720598, 0.8712666218629292, 0.8723915167377051, 0.873296189366509, 0.4711601752310962, 0.471163796425153, 0.47117242470235005, 0.4711732741182399, 0.4711776553159876, 0.47118310946012254, 0.4711841824065097, 0.47119884600713474, 0.4782988004878057, 0.4785669029663063, 0.4786317268105327, 0.4787078612979241, 0.47871765193370724, 0.478720021356979, 0.4787514497449039, 0.47880089469091386, 0.4789553542645706, 0.47907199247807863, 0.47909474788270706, 0.4791675294126385, 0.47917222355308253, 0.4792757181733474, 0.47929985946705933, 0.47930696773687453, 0.47938453281944887, 0.47949209569476525, 1.0054095086171027, 1.5759034180235758, 2.3164760498817736, 5.2108868029530235, 4.252178090548406, 4.351582996834133, 1.9003248523880143, 4.2248937792196095, 3.0499266424461635, 1.8603186157462384, 1.0592480806704072, 1.0584916534674342, 3.047371241800659, 1.3041319993520257, 2.714871236438228, 1.952296587139797, 1.3208005791259072, 2.607122741396871, 2.0793089404412646, 1.448650188258183, 1.9667089394858037, 1.1284682333061518, 1.9514632654457418, 2.586548815597995, 1.4066938715576789, 1.1940472529647486, 1.1962516213172423, 1.1420965300797152, 1.0912922504094003, 1.1414758305947224, 1.0899964888224636, 1.115995678615996, 0.8343087791421945, 0.45171640496088894, 0.45199688502578345, 0.452175476081344, 0.4523695135107196, 0.4524408765728571, 0.45256204298275704, 0.45263422115696916, 0.4526499935756141, 0.4526903008677066, 0.45283877353210805, 0.453348340845589, 0.4533504193813794, 0.45342235302196915, 0.4534620897356094, 0.45354188920771976, 0.45359686851715636, 0.4535969092727601, 0.4536225853031122, 0.45365400787359084, 0.4537131034990045, 0.4537215806645811, 0.45372977254093155, 0.45377044663345767, 0.4538105501475315, 0.45386618154662783, 0.45388195396527276, 0.45393962314455577, 0.45397552883144504, 0.45398111234915656, 1.405301145323835, 0.9555641992806825, 3.8963964570313903, 1.7904596960942256, 4.565600209888478, 1.7124195618858469, 2.536833043463943, 1.107451123629292, 3.463290568692592, 2.3008365788877425, 2.7981842212124635, 1.1784698009152421, 1.148420938816096, 1.3167657910643997, 1.2442525242783318, 1.382446380884533, 1.3687515198955604, 1.0746348745254282, 2.214759765667931, 1.4182281707384672, 1.8382179276613095, 2.268957382624921, 2.044355695785385, 1.1557493669458458, 1.5045206626132361, 1.6103869298043392, 1.1263954694015645, 0.8269329114896986, 0.8970311642209295, 1.0243401772043812, 1.2690459512760328, 1.050675633224946, 1.00918968907246, 0.21765573330741333, 0.11994517935160157, 0.12000832884226725, 0.12028205124344778, 0.12030825419148126, 0.12035159132055581, 0.12039191067269925, 0.1204139921555634, 0.12051292275582653, 0.1499875114514157, 0.15047608259027173, 0.18196375232379433, 0.20058459370363757, 0.2167036285447, 0.21921784578758624, 0.23503352844322642, 0.21173635227990464, 0.289940906888813, 0.2726437504572868, 0.26796618077787737, 0.21977941471215678, 0.23062482648036922, 0.6434415368715649, 0.5734025000626551, 0.42367124495309755, 0.03087534272714285, 0.030705067943997657, 0.03057310387758332, 0.03053466581220959, 0.030504055829322745, 0.7278495140082849, 0.7481521910288005, 0.3023722955010627, 0.056964846274135825, 0.056729772256542264, 0.12442814486850244, 0.14266695575592686, 0.3648442605142804, 0.4833771356983247, 0.5051566247625872, 0.44643435949870924, 0.40130990379859965, 0.42222956569858433, 0.30619494672751957, 0.3025491634707639, 0.24298301663631566, 0.21330502514471036, 0.2055841161884282, 0.19235882841841082, 0.19708102414952264], \"Total\": [28.0, 24.0, 19.0, 17.0, 21.0, 24.0, 22.0, 21.0, 13.0, 11.0, 18.0, 7.0, 12.0, 13.0, 15.0, 7.0, 6.0, 6.0, 8.0, 4.0, 5.0, 6.0, 6.0, 4.0, 3.0, 5.0, 4.0, 8.0, 7.0, 8.0, 3.3471080701031855, 2.693169370452172, 2.795160488827488, 1.9275122196017724, 1.9434222459981716, 1.94791234896458, 1.9613540483422753, 1.9706825773251917, 1.97267382070592, 1.9908137943374054, 2.0124696050467006, 2.026592180094037, 2.0301145106479126, 2.032598106239468, 2.036759699498459, 2.0371213572811273, 2.0417599476822583, 2.0653035716644075, 2.079790201854753, 2.0830641865772552, 2.0861330250962675, 2.0950945359865125, 2.0964132590075972, 2.0987880626663102, 5.2506614508834915, 6.32263336876112, 10.56465019836645, 5.42916056960161, 1.164259667672835, 1.164277567563698, 4.693547699194925, 4.882767056600944, 22.391277994585092, 12.270882751137796, 15.18052903300709, 28.75421735759489, 6.638711894940733, 13.008199237951082, 21.61908505864338, 5.7987575347451035, 9.166635292106523, 3.882805212934946, 18.335419375265165, 24.073398063435928, 12.718463587359528, 4.03511160305847, 8.091507959920143, 4.830802834809564, 24.854812389333468, 7.847902510771388, 4.658474789365153, 4.63305085051835, 13.019744262890857, 19.161162333707907, 21.620059421809987, 17.356954996236833, 7.027246079447159, 6.967192104295117, 8.696967906865767, 7.408332483758556, 8.581962693853976, 13.973834329976643, 10.060962355516962, 6.826596523971516, 2.994428471767398, 2.994470888293494, 2.389317353375604, 2.5346777045717674, 1.7682832874985388, 1.7683017858039976, 1.7684020325500438, 1.7684032384720243, 1.8425123241192212, 1.8464245310809348, 1.855339397936213, 1.8617260523904042, 1.861797179495367, 1.865993813603611, 1.8674829326154392, 1.1141047087971878, 1.1141104702950502, 1.1141121303025012, 1.1141142078497277, 1.1141158415396573, 1.1141161266096218, 1.1141175390411548, 1.114117934246506, 1.1141190846369415, 1.1141246541110772, 1.114125985348714, 1.1141262139059598, 1.1141270830583827, 1.114128088271561, 4.231186170730828, 11.179749822779893, 5.917860573503818, 6.99624619801302, 8.18070665533865, 13.973834329976643, 10.060962355516962, 24.854812389333468, 21.620059421809987, 3.798384418588016, 3.8938752242120103, 17.356954996236833, 19.161162333707907, 24.073398063435928, 6.4767118850236045, 18.335419375265165, 6.870374722236931, 15.18052903300709, 13.008199237951082, 12.270882751137796, 21.61908505864338, 7.123582182666591, 28.75421735759489, 13.019744262890857, 6.052917043683415, 22.391277994585092, 8.581962693853976, 7.847902510771388, 12.718463587359528, 1.977758344530119, 1.4953351100134862, 1.5013886263272476, 1.5062660091442734, 0.9360556229980155, 0.9360749963350737, 0.9361210115762897, 0.9361254163735758, 0.9361487414036234, 0.9361777847962518, 0.9361834007272475, 0.9362618057532153, 0.9741630926543048, 0.9755995417529761, 0.9759469039056166, 0.9763551177607595, 0.9764076941258095, 0.9764201473923416, 0.9765885317469664, 0.9768539082699145, 0.9776817521897365, 0.9783072473344874, 0.9784292033508876, 0.9788199952013303, 0.9788449561344967, 0.9794004185715858, 0.9795297896155859, 0.9795679037026382, 0.979984005951497, 0.980561272379048, 2.5495883716452896, 4.805112157518261, 8.696967906865767, 28.75421735759489, 21.620059421809987, 22.391277994585092, 7.102032938771828, 24.073398063435928, 17.356954996236833, 8.581962693853976, 3.5769104001146945, 3.5728611267891406, 21.61908505864338, 5.268893203398725, 18.335419375265165, 11.179749822779893, 5.748957655106795, 19.161162333707907, 13.019744262890857, 6.967192104295117, 12.718463587359528, 4.63305085051835, 13.973834329976643, 24.854812389333468, 8.18070665533865, 5.917860573503818, 9.166635292106523, 8.091507959920143, 6.929677641256102, 10.060962355516962, 7.123582182666591, 15.18052903300709, 1.5291977027672428, 0.9590133791238187, 0.9606097003902204, 0.9616261811578731, 0.9627318440249936, 0.963138119958478, 0.96382851700231, 0.9642395426682452, 0.9643297999868409, 0.9645596711843775, 0.9654061828094992, 0.9683113011983524, 0.9683237726296189, 0.9687333829001049, 0.9689636156089756, 0.9694185098756649, 0.9697298999255782, 0.9697314744120057, 0.9698809971391984, 0.9700604834004581, 0.970396711206762, 0.9704431256292441, 0.9704909907455812, 0.9707267204431755, 0.9709513835090305, 0.9712693765458666, 0.9713643131255967, 0.971694452502148, 0.9718970528604388, 0.9719271317037043, 4.243692532652603, 2.8037309972169395, 21.61908505864338, 7.102032938771828, 28.75421735759489, 6.929677641256102, 12.718463587359528, 3.7498997817680335, 24.854812389333468, 13.019744262890857, 19.161162333707907, 4.74213533059674, 4.7457014932343, 6.336226318967617, 5.748957655106795, 7.027246079447159, 7.123582182666591, 4.658474789365153, 18.335419375265165, 8.091507959920143, 13.973834329976643, 24.073398063435928, 22.391277994585092, 8.696967906865767, 17.356954996236833, 21.620059421809987, 9.166635292106523, 4.2974057776114165, 5.284550935249748, 7.408332483758556, 13.008199237951082, 15.18052903300709, 10.56465019836645, 1.0016595021344645, 0.7398743280824706, 0.7412901695274821, 0.7474863137885361, 0.7480818362940186, 0.7490740865889891, 0.7499998355600586, 0.7505086274568195, 0.752797385239472, 1.728221352744932, 1.7601598692715406, 2.959084927403182, 3.7498997817680335, 4.2974057776114165, 4.74213533059674, 5.284550935249748, 4.830802834809564, 7.102032938771828, 7.027246079447159, 6.967192104295117, 5.7987575347451035, 6.4767118850236045, 19.161162333707907, 17.356954996236833, 13.019744262890857, 1.0061233495335207, 1.0024358721752407, 0.9995817154422338, 0.9987508841853386, 0.998089512077737, 24.854812389333468, 28.75421735759489, 11.179749822779893, 1.9296466990862524, 1.924941410904544, 4.513603095436576, 5.268893203398725, 15.18052903300709, 21.61908505864338, 24.073398063435928, 22.391277994585092, 18.335419375265165, 21.620059421809987, 12.718463587359528, 13.973834329976643, 13.008199237951082, 8.696967906865767, 9.166635292106523, 8.091507959920143, 12.270882751137796], \"Category\": [\"Default\", \"Default\", \"Default\", \"Default\", \"Default\", \"Default\", \"Default\", \"Default\", \"Default\", \"Default\", \"Default\", \"Default\", \"Default\", \"Default\", \"Default\", \"Default\", \"Default\", \"Default\", \"Default\", \"Default\", \"Default\", \"Default\", \"Default\", \"Default\", \"Default\", \"Default\", \"Default\", \"Default\", \"Default\", \"Default\", \"Topic1\", \"Topic1\", \"Topic1\", \"Topic1\", \"Topic1\", \"Topic1\", \"Topic1\", \"Topic1\", \"Topic1\", \"Topic1\", \"Topic1\", \"Topic1\", \"Topic1\", \"Topic1\", \"Topic1\", \"Topic1\", \"Topic1\", \"Topic1\", \"Topic1\", \"Topic1\", \"Topic1\", \"Topic1\", \"Topic1\", \"Topic1\", \"Topic1\", \"Topic1\", \"Topic1\", \"Topic1\", \"Topic1\", \"Topic1\", \"Topic1\", \"Topic1\", \"Topic1\", \"Topic1\", \"Topic1\", \"Topic1\", \"Topic1\", \"Topic1\", \"Topic1\", \"Topic1\", \"Topic1\", \"Topic1\", \"Topic1\", \"Topic1\", \"Topic1\", \"Topic1\", \"Topic1\", \"Topic1\", \"Topic1\", \"Topic1\", \"Topic1\", \"Topic1\", \"Topic1\", \"Topic1\", \"Topic1\", \"Topic1\", \"Topic1\", \"Topic1\", \"Topic1\", \"Topic1\", \"Topic1\", \"Topic1\", \"Topic1\", \"Topic2\", \"Topic2\", \"Topic2\", \"Topic2\", \"Topic2\", \"Topic2\", \"Topic2\", \"Topic2\", \"Topic2\", \"Topic2\", \"Topic2\", \"Topic2\", \"Topic2\", \"Topic2\", \"Topic2\", \"Topic2\", \"Topic2\", \"Topic2\", \"Topic2\", \"Topic2\", \"Topic2\", \"Topic2\", \"Topic2\", \"Topic2\", \"Topic2\", \"Topic2\", \"Topic2\", \"Topic2\", \"Topic2\", \"Topic2\", \"Topic2\", \"Topic2\", \"Topic2\", \"Topic2\", \"Topic2\", \"Topic2\", \"Topic2\", \"Topic2\", \"Topic2\", \"Topic2\", \"Topic2\", \"Topic2\", \"Topic2\", \"Topic2\", \"Topic2\", \"Topic2\", \"Topic2\", \"Topic2\", \"Topic2\", \"Topic2\", \"Topic2\", \"Topic2\", \"Topic2\", \"Topic2\", \"Topic2\", \"Topic2\", \"Topic2\", \"Topic2\", \"Topic2\", \"Topic3\", \"Topic3\", \"Topic3\", \"Topic3\", \"Topic3\", \"Topic3\", \"Topic3\", \"Topic3\", \"Topic3\", \"Topic3\", \"Topic3\", \"Topic3\", \"Topic3\", \"Topic3\", \"Topic3\", \"Topic3\", \"Topic3\", \"Topic3\", \"Topic3\", \"Topic3\", \"Topic3\", \"Topic3\", \"Topic3\", \"Topic3\", \"Topic3\", \"Topic3\", \"Topic3\", \"Topic3\", \"Topic3\", \"Topic3\", \"Topic3\", \"Topic3\", \"Topic3\", \"Topic3\", \"Topic3\", \"Topic3\", \"Topic3\", \"Topic3\", \"Topic3\", \"Topic3\", \"Topic3\", \"Topic3\", \"Topic3\", \"Topic3\", \"Topic3\", \"Topic3\", \"Topic3\", \"Topic3\", \"Topic3\", \"Topic3\", \"Topic3\", \"Topic3\", \"Topic3\", \"Topic3\", \"Topic3\", \"Topic3\", \"Topic3\", \"Topic3\", \"Topic3\", \"Topic3\", \"Topic3\", \"Topic3\", \"Topic4\", \"Topic4\", \"Topic4\", \"Topic4\", \"Topic4\", \"Topic4\", \"Topic4\", \"Topic4\", \"Topic4\", \"Topic4\", \"Topic4\", \"Topic4\", \"Topic4\", \"Topic4\", \"Topic4\", \"Topic4\", \"Topic4\", \"Topic4\", \"Topic4\", \"Topic4\", \"Topic4\", \"Topic4\", \"Topic4\", \"Topic4\", \"Topic4\", \"Topic4\", \"Topic4\", \"Topic4\", \"Topic4\", \"Topic4\", \"Topic4\", \"Topic4\", \"Topic4\", \"Topic4\", \"Topic4\", \"Topic4\", \"Topic4\", \"Topic4\", \"Topic4\", \"Topic4\", \"Topic4\", \"Topic4\", \"Topic4\", \"Topic4\", \"Topic4\", \"Topic4\", \"Topic4\", \"Topic4\", \"Topic4\", \"Topic4\", \"Topic4\", \"Topic4\", \"Topic4\", \"Topic4\", \"Topic4\", \"Topic4\", \"Topic4\", \"Topic4\", \"Topic4\", \"Topic4\", \"Topic4\", \"Topic4\", \"Topic4\", \"Topic5\", \"Topic5\", \"Topic5\", \"Topic5\", \"Topic5\", \"Topic5\", \"Topic5\", \"Topic5\", \"Topic5\", \"Topic5\", \"Topic5\", \"Topic5\", \"Topic5\", \"Topic5\", \"Topic5\", \"Topic5\", \"Topic5\", \"Topic5\", \"Topic5\", \"Topic5\", \"Topic5\", \"Topic5\", \"Topic5\", \"Topic5\", \"Topic5\", \"Topic5\", \"Topic5\", \"Topic5\", \"Topic5\", \"Topic5\", \"Topic5\", \"Topic5\", \"Topic5\", \"Topic5\", \"Topic5\", \"Topic5\", \"Topic5\", \"Topic5\", \"Topic5\", \"Topic5\", \"Topic5\", \"Topic5\", \"Topic5\", \"Topic5\", \"Topic5\", \"Topic5\", \"Topic5\", \"Topic5\", \"Topic5\", \"Topic5\"], \"logprob\": [30.0, 29.0, 28.0, 27.0, 26.0, 25.0, 24.0, 23.0, 22.0, 21.0, 20.0, 19.0, 18.0, 17.0, 16.0, 15.0, 14.0, 13.0, 12.0, 11.0, 10.0, 9.0, 8.0, 7.0, 6.0, 5.0, 4.0, 3.0, 2.0, 1.0, -5.2088, -5.4688, -5.4539, -5.8451, -5.8417, -5.8408, -5.8379, -5.8359, -5.8355, -5.8316, -5.827, -5.824, -5.8233, -5.8227, -5.8218, -5.8218, -5.8208, -5.816, -5.8129, -5.8123, -5.8116, -5.8098, -5.8096, -5.8091, -4.9229, -4.7468, -4.2339, -4.906, -6.4547, -6.4547, -5.0997, -5.1009, -3.7716, -4.2993, -4.1446, -3.6543, -4.8672, -4.3437, -3.9811, -5.0189, -4.7283, -5.3528, -4.2747, -4.1024, -4.5853, -5.3561, -4.8992, -5.2422, -4.2198, -4.955, -5.2943, -5.3028, -4.6701, -4.4982, -4.4419, -4.5869, -5.0972, -5.1078, -5.0325, -5.1066, -5.0811, -5.0334, -5.0775, -4.2262, -5.111, -5.111, -5.3765, -5.3547, -5.7426, -5.7426, -5.7426, -5.7426, -5.7265, -5.7256, -5.7237, -5.7224, -5.7224, -5.7215, -5.7212, -6.3393, -6.3393, -6.3393, -6.3393, -6.3393, -6.3393, -6.3393, -6.3393, -6.3393, -6.3393, -6.3393, -6.3393, -6.3393, -6.3393, -5.0137, -4.0832, -4.7608, -4.6074, -4.5358, -4.0838, -4.3864, -3.5971, -3.7254, -5.2591, -5.2462, -4.0038, -3.9473, -3.7881, -4.8806, -4.1593, -4.868, -4.3938, -4.557, -4.6255, -4.3599, -4.9897, -4.263, -4.6932, -5.0967, -4.5228, -4.9659, -5.0285, -4.9106, -5.0289, -5.3954, -5.3941, -5.393, -6.0101, -6.0101, -6.0101, -6.0101, -6.0101, -6.0101, -6.0101, -6.01, -5.9951, -5.9945, -5.9944, -5.9942, -5.9942, -5.9942, -5.9941, -5.994, -5.9937, -5.9935, -5.9934, -5.9933, -5.9932, -5.993, -5.993, -5.993, -5.9928, -5.9926, -5.2522, -4.8027, -4.4175, -3.6068, -3.8101, -3.787, -4.6155, -3.8166, -4.1424, -4.6368, -5.2, -5.2007, -4.1433, -4.992, -4.2588, -4.5885, -4.9793, -4.2993, -4.5255, -4.8869, -4.5812, -5.1367, -4.589, -4.3072, -4.9163, -5.0802, -5.0784, -5.1247, -5.1702, -5.1252, -5.1714, -5.1478, -5.3462, -5.9597, -5.9591, -5.9587, -5.9583, -5.9581, -5.9579, -5.9577, -5.9577, -5.9576, -5.9573, -5.9561, -5.9561, -5.956, -5.9559, -5.9557, -5.9556, -5.9556, -5.9555, -5.9555, -5.9553, -5.9553, -5.9553, -5.9552, -5.9551, -5.955, -5.955, -5.9548, -5.9547, -5.9547, -4.8248, -5.2105, -3.805, -4.5826, -3.6465, -4.6271, -4.2341, -5.063, -3.9228, -4.3318, -4.1361, -5.0008, -5.0266, -4.8899, -4.9465, -4.8412, -4.8511, -5.0931, -4.3699, -4.8156, -4.5562, -4.3457, -4.45, -5.0203, -4.7566, -4.6886, -5.046, -5.3551, -5.2737, -5.141, -4.9268, -5.1156, -5.1559, -5.0259, -5.6217, -5.6212, -5.6189, -5.6187, -5.6183, -5.618, -5.6178, -5.617, -5.3982, -5.395, -5.205, -5.1075, -5.0302, -5.0187, -4.949, -5.0534, -4.7391, -4.8006, -4.8179, -5.0161, -4.968, -3.9419, -4.0572, -4.3598, -6.9788, -6.9843, -6.9886, -6.9899, -6.9909, -3.8187, -3.7912, -4.6971, -6.3663, -6.3705, -5.585, -5.4483, -4.5093, -4.228, -4.1839, -4.3075, -4.414, -4.3632, -4.6845, -4.6965, -4.9158, -5.046, -5.0829, -5.1494, -5.1252], \"loglift\": [30.0, 29.0, 28.0, 27.0, 26.0, 25.0, 24.0, 23.0, 22.0, 21.0, 20.0, 19.0, 18.0, 17.0, 16.0, 15.0, 14.0, 13.0, 12.0, 11.0, 10.0, 9.0, 8.0, 7.0, 6.0, 5.0, 4.0, 3.0, 2.0, 1.0, 0.7424, 0.6997, 0.6775, 0.6579, 0.6531, 0.6518, 0.6478, 0.645, 0.6444, 0.6392, 0.633, 0.6289, 0.6279, 0.6273, 0.6261, 0.626, 0.6247, 0.618, 0.6141, 0.6131, 0.6124, 0.6099, 0.6095, 0.6089, 0.578, 0.5684, 0.5679, 0.5615, 0.5525, 0.5525, 0.5134, 0.4727, 0.279, 0.3528, 0.2947, 0.1463, 0.3991, 0.25, 0.1046, 0.3827, 0.2154, 0.4499, -0.0242, -0.1242, 0.031, 0.4081, 0.1693, 0.3421, -0.2736, 0.1441, 0.3263, 0.3232, -0.0773, -0.2918, -0.3562, -0.2816, 0.1123, 0.1103, -0.0362, 0.0501, -0.0715, -0.5113, -0.2269, 1.0123, 0.9515, 0.9515, 0.9118, 0.8745, 0.8467, 0.8467, 0.8466, 0.8466, 0.8217, 0.8204, 0.8175, 0.8154, 0.8154, 0.814, 0.8135, 0.7119, 0.7119, 0.7119, 0.7119, 0.7119, 0.7119, 0.7119, 0.7119, 0.7119, 0.7119, 0.7119, 0.7119, 0.7119, 0.7119, 0.7032, 0.662, 0.6205, 0.6065, 0.5217, 0.4383, 0.4642, 0.3492, 0.3603, 0.5656, 0.5537, 0.3015, 0.2591, 0.1901, 0.4105, 0.0912, 0.3641, 0.0455, 0.0367, 0.0265, -0.2742, 0.2062, -0.4625, -0.1004, 0.262, -0.4722, 0.0437, 0.0706, -0.2944, 1.4485, 1.3616, 1.3588, 1.3566, 1.2153, 1.2152, 1.2152, 1.2152, 1.2152, 1.2152, 1.2152, 1.2151, 1.1904, 1.1895, 1.1893, 1.189, 1.189, 1.189, 1.1889, 1.1887, 1.1882, 1.1878, 1.1877, 1.1874, 1.1874, 1.1871, 1.187, 1.187, 1.1867, 1.1863, 0.9712, 0.7869, 0.5788, 0.1937, 0.2755, 0.2636, 0.5834, 0.1616, 0.1629, 0.3728, 0.6848, 0.6852, -0.0576, 0.5055, -0.0084, 0.1566, 0.431, -0.0929, 0.0673, 0.3312, 0.035, 0.4894, -0.0669, -0.361, 0.1412, 0.3011, -0.1346, -0.0562, 0.0533, -0.2746, 0.0245, -0.7085, 1.3884, 1.2414, 1.2404, 1.2397, 1.239, 1.2387, 1.2383, 1.238, 1.2379, 1.2378, 1.2372, 1.2354, 1.2354, 1.2351, 1.2349, 1.2346, 1.2344, 1.2344, 1.2343, 1.2342, 1.234, 1.234, 1.234, 1.2338, 1.2337, 1.2335, 1.2334, 1.2332, 1.233, 1.233, 0.8891, 0.9179, 0.2807, 0.6163, 0.154, 0.5963, 0.3821, 0.7746, 0.0234, 0.2611, 0.0703, 0.602, 0.5754, 0.4231, 0.4638, 0.3683, 0.3447, 0.5275, -0.1194, 0.2528, -0.0341, -0.3675, -0.3993, -0.024, -0.4513, -0.6029, -0.1023, 0.3462, 0.2208, 0.0157, -0.3331, -0.6763, -0.3541, 2.1318, 1.8388, 1.8374, 1.8314, 1.8308, 1.8299, 1.829, 1.8285, 1.8262, 1.214, 1.1989, 0.8695, 0.73, 0.671, 0.5841, 0.5455, 0.5309, 0.4598, 0.4089, 0.4002, 0.3855, 0.3231, 0.2645, 0.2481, 0.233, 0.1744, 0.1725, 0.1711, 0.1706, 0.1703, 0.1276, 0.0093, 0.0481, 0.1356, 0.1339, 0.0672, 0.0492, -0.07, -0.1423, -0.2057, -0.2569, -0.1636, -0.2775, -0.0683, -0.1744, -0.3221, -0.0497, -0.1392, -0.0809, -0.4731]}, \"token.table\": {\"Topic\": [2, 2, 2, 1, 4, 2, 1, 2, 3, 1, 2, 3, 4, 2, 1, 2, 3, 2, 1, 1, 2, 4, 3, 4, 2, 1, 2, 1, 2, 3, 4, 1, 2, 3, 4, 3, 1, 1, 2, 3, 4, 1, 2, 3, 4, 1, 3, 4, 2, 1, 2, 4, 1, 2, 3, 4, 1, 2, 3, 4, 2, 1, 2, 1, 2, 3, 4, 1, 2, 3, 4, 1, 2, 3, 4, 1, 2, 3, 2, 1, 2, 3, 4, 1, 1, 2, 3, 4, 1, 2, 3, 4, 1, 2, 1, 2, 1, 2, 3, 4, 1, 2, 3, 4, 1, 2, 3, 4, 5, 1, 2, 3, 1, 1, 2, 3, 4, 1, 2, 3, 4, 1, 2, 3, 4, 3, 1, 2, 3, 4, 5, 1, 1, 2, 3, 1, 2, 3, 4, 1, 2, 3, 4, 2, 1, 2, 3, 4, 1, 2, 3, 4, 1, 1, 1, 1, 2, 3, 1, 1, 1, 1, 1, 2, 3, 1, 2, 3, 4, 1, 1, 2, 4, 2, 2, 2, 2, 2, 1, 2, 3, 4, 1, 2, 4, 3, 4, 1, 2, 3, 4, 1, 1, 2, 1, 2, 3, 4, 4, 1, 2, 1, 2, 3, 4, 3, 1, 2, 3, 4, 1, 2, 3, 4, 1, 2, 3, 4, 1, 2, 1, 2, 3, 4, 1, 2, 3, 4, 1, 2, 4, 1, 2, 4, 2, 1, 1, 2, 3, 4, 1, 3, 1, 2, 4, 1, 1, 2, 3, 4, 5, 1, 2, 3, 4, 2, 2, 2, 1, 1, 2, 1, 1, 2, 3, 4, 5, 2, 1, 1, 2, 3, 4, 1, 1, 2, 3, 4, 5, 4, 1, 2, 2, 1, 2, 3, 2, 2, 1, 1, 1, 2, 3, 1, 2, 3, 4, 2, 2, 2, 3], \"Freq\": [0.8789152806865131, 0.8975645601578951, 0.8975770596026889, 0.3566675979231344, 0.3566675979231344, 0.6679070877320179, 0.16897998653049118, 0.5069399595914735, 0.16897998653049118, 0.2107170038877599, 0.4214340077755198, 0.2107170038877599, 0.2107170038877599, 0.8975757222286793, 0.27988773269188894, 0.5597754653837779, 0.27988773269188894, 0.8975817013462067, 0.48419032132603634, 0.33794231140150977, 0.33794231140150977, 0.33794231140150977, 0.5182295808209508, 0.5182295808209508, 0.8975643760271556, 0.4908887712682292, 0.8975713647418494, 0.4912627141094913, 0.17864098694890593, 0.17864098694890593, 0.08932049347445296, 0.6625870112653961, 0.189310574647256, 0.094655287323628, 0.094655287323628, 0.6687464189822849, 0.5188034554751626, 0.22155248896630675, 0.22155248896630675, 0.22155248896630675, 0.22155248896630675, 0.5269908566826337, 0.32936928542664606, 0.06587385708532921, 0.06587385708532921, 0.49258305122938567, 0.3922201760571587, 0.3922201760571587, 0.5415872586000465, 0.6391753514115952, 0.21305845047053174, 0.21305845047053174, 0.34788915138788706, 0.17394457569394353, 0.17394457569394353, 0.17394457569394353, 0.3840321206808265, 0.3072256965446612, 0.1536128482723306, 0.1536128482723306, 0.8975727323094568, 0.6326477856146473, 0.15816194640366182, 0.28861371387507595, 0.28861371387507595, 0.14430685693753798, 0.28861371387507595, 0.23269852830975155, 0.23269852830975155, 0.23269852830975155, 0.23269852830975155, 0.4305895337880188, 0.2870596891920125, 0.14352984459600626, 0.14352984459600626, 0.23634034515367966, 0.709021035461039, 0.23634034515367966, 0.837059169714069, 0.34957038465670187, 0.34957038465670187, 0.23304692310446792, 0.11652346155223396, 0.715522420982331, 0.3449478061925086, 0.22996520412833907, 0.22996520412833907, 0.11498260206416953, 0.37846167526919294, 0.18923083763459647, 0.18923083763459647, 0.18923083763459647, 0.25681357065116706, 0.5136271413023341, 0.480817728205567, 0.8975656326336899, 0.08944743986689191, 0.6261320790682434, 0.17889487973378382, 0.08944743986689191, 0.2911049369005623, 0.43665740535084346, 0.14555246845028116, 0.14555246845028116, 0.4521075930646498, 0.2086650429529153, 0.17388753579409608, 0.17388753579409608, 0.034777507158819214, 0.5173522055413671, 0.1724507351804557, 0.1724507351804557, 0.50230714838543, 0.2807576228805904, 0.42113643432088566, 0.1403788114402952, 0.1403788114402952, 0.43636512990152865, 0.21818256495076432, 0.10909128247538216, 0.10909128247538216, 0.40494942776622994, 0.2699662851774866, 0.1349831425887433, 0.1349831425887433, 0.5681302121800219, 0.28163559999366866, 0.4425702285614793, 0.12070097142585799, 0.12070097142585799, 0.040233657141952664, 0.7426194660992331, 0.20811168755662904, 0.20811168755662904, 0.4162233751132581, 0.3795863614601052, 0.1897931807300526, 0.1897931807300526, 0.1897931807300526, 0.2775200513069493, 0.4625334188449155, 0.18501336753796618, 0.09250668376898309, 0.5354801281099176, 0.2816095077624161, 0.14080475388120806, 0.2816095077624161, 0.2816095077624161, 0.2146869591522497, 0.5009362380219159, 0.1431246394348331, 0.1431246394348331, 0.4770051876476784, 0.5133701218802549, 0.8962961270346778, 0.28586758432943843, 0.5717351686588769, 0.6638933587621161, 0.8589149205854024, 0.489773541270201, 0.47935581670485927, 0.509851855071854, 0.7618087811254616, 0.1904521952813654, 0.1904521952813654, 0.4943454322498716, 0.2471727161249358, 0.1235863580624679, 0.1235863580624679, 0.506926177811875, 0.2666737934869587, 0.2666737934869587, 0.2666737934869587, 0.6678976268624777, 0.8975628659998894, 0.5389849431927928, 0.8975701195585124, 0.8975710463509543, 0.2981822110043917, 0.4969703516739861, 0.09939407033479722, 0.09939407033479722, 0.7367621474296382, 0.18419053685740955, 0.18419053685740955, 0.5194963308156443, 0.5194963308156443, 0.38177474192071853, 0.3272354930749016, 0.1636177465374508, 0.10907849769163386, 0.8589017154152887, 0.4956492401558538, 0.2478246200779269, 0.30879866751903706, 0.46319800127855565, 0.15439933375951853, 0.15439933375951853, 0.5786295826120312, 0.2632698246934503, 0.5265396493869006, 0.5704561067011203, 0.3259749181149259, 0.08149372952873148, 0.08149372952873148, 0.6660500702248138, 0.24447765752544365, 0.4889553150508873, 0.12223882876272182, 0.12223882876272182, 0.3931292459703497, 0.23587754758220983, 0.15725169838813988, 0.23587754758220983, 0.4217509329807178, 0.2108754664903589, 0.2108754664903589, 0.2108754664903589, 0.6144057181561309, 0.2048019060520436, 0.3156452909538539, 0.3156452909538539, 0.15782264547692695, 0.15782264547692695, 0.3822677455386896, 0.3822677455386896, 0.12742258184622984, 0.12742258184622984, 0.23564383901652045, 0.4712876780330409, 0.23564383901652045, 0.6210147883458927, 0.20700492944863091, 0.20700492944863091, 0.5655143302054224, 0.4909759360646445, 0.46124754781546984, 0.3074983652103132, 0.0768745913025783, 0.0768745913025783, 0.5150915099571102, 0.2575457549785551, 0.4293250667720273, 0.21466253338601365, 0.21466253338601365, 0.4919811727317364, 0.28806896146726496, 0.4032965460541709, 0.17284137688035897, 0.11522758458690598, 0.05761379229345299, 0.4162988385302537, 0.23127713251680762, 0.13876627951008458, 0.18502170601344609, 0.5654818868484105, 0.8975740484721298, 0.5427372109861092, 0.4773054307686084, 0.5074383929233801, 0.8975636758195544, 0.4969019146884429, 0.3323170239165722, 0.3738566519061437, 0.1661585119582861, 0.08307925597914305, 0.041539627989571525, 0.5654822724660611, 0.47646545060371426, 0.42690976893127575, 0.2846065126208505, 0.14230325631042526, 0.14230325631042526, 0.49343918812200216, 0.2609445039356567, 0.41751120629705074, 0.15656670236139403, 0.15656670236139403, 0.05218890078713134, 0.653937681302029, 0.6025265237143884, 0.3012632618571942, 0.7890549541634522, 0.2795708832874133, 0.5591417665748266, 0.2795708832874133, 0.565520246144851, 0.8975725026466588, 0.514556217548279, 0.4800620194249174, 0.4316809947760962, 0.2158404973880481, 0.2158404973880481, 0.330419198803843, 0.330419198803843, 0.1652095994019215, 0.1652095994019215, 0.537115433954544, 0.537135954409634, 0.5359074573075877, 0.505622945677715], \"Term\": [\"\", \" HALL\", \" \\u0e18\\u0e23\\u0e23\\u0e21\\u0e14\\u0e32\", \")\", \")\", \"199\", \"2\", \"2\", \"2\", \"3\", \"3\", \"3\", \"3\", \"39\", \"4\", \"4\", \"4\", \"40\", \"5\", \"555\", \"555\", \"555\", \"CTW\", \"CTW\", \"MCC\", \"Shabushi\", \"\\u0e01\\u0e33\\u0e40\\u0e07\\u0e34\\u0e19\", \"\\u0e01\\u0e34\\u0e19\", \"\\u0e01\\u0e34\\u0e19\", \"\\u0e01\\u0e34\\u0e19\", \"\\u0e01\\u0e34\\u0e19\", \"\\u0e01\\u0e38\\u0e49\\u0e07\", \"\\u0e01\\u0e38\\u0e49\\u0e07\", \"\\u0e01\\u0e38\\u0e49\\u0e07\", \"\\u0e01\\u0e38\\u0e49\\u0e07\", \"\\u0e01\\u0e47\\u0e23\\u0e2a\\u0e0a\\u0e32\\u0e15\\u0e34\", \"\\u0e02\\u0e22\\u0e31\\u0e19\", \"\\u0e02\\u0e49\\u0e32\\u0e27\", \"\\u0e02\\u0e49\\u0e32\\u0e27\", \"\\u0e02\\u0e49\\u0e32\\u0e27\", \"\\u0e02\\u0e49\\u0e32\\u0e27\", \"\\u0e04\\u0e19\", \"\\u0e04\\u0e19\", \"\\u0e04\\u0e19\", \"\\u0e04\\u0e19\", \"\\u0e04\\u0e23\\u0e36\\u0e48\\u0e07\", \"\\u0e04\\u0e2d\", \"\\u0e04\\u0e2d\", \"\\u0e04\\u0e32\\u0e27\", \"\\u0e04\\u0e34\\u0e27\", \"\\u0e04\\u0e34\\u0e27\", \"\\u0e04\\u0e34\\u0e27\", \"\\u0e04\\u0e38\\u0e13\\u0e20\\u0e32\\u0e1e\", \"\\u0e04\\u0e38\\u0e13\\u0e20\\u0e32\\u0e1e\", \"\\u0e04\\u0e38\\u0e13\\u0e20\\u0e32\\u0e1e\", \"\\u0e04\\u0e38\\u0e13\\u0e20\\u0e32\\u0e1e\", \"\\u0e04\\u0e38\\u0e49\\u0e21\", \"\\u0e04\\u0e38\\u0e49\\u0e21\", \"\\u0e04\\u0e38\\u0e49\\u0e21\", \"\\u0e04\\u0e38\\u0e49\\u0e21\", \"\\u0e04\\u0e38\\u0e49\\u0e21\\u0e14\\u0e35\", \"\\u0e04\\u0e48\\u0e30\", \"\\u0e04\\u0e48\\u0e30\", \"\\u0e04\\u0e48\\u0e32\", \"\\u0e04\\u0e48\\u0e32\", \"\\u0e04\\u0e48\\u0e32\", \"\\u0e04\\u0e48\\u0e32\", \"\\u0e08\\u0e32\\u0e19\", \"\\u0e08\\u0e32\\u0e19\", \"\\u0e08\\u0e32\\u0e19\", \"\\u0e08\\u0e32\\u0e19\", \"\\u0e08\\u0e34\\u0e49\\u0e21\", \"\\u0e08\\u0e34\\u0e49\\u0e21\", \"\\u0e08\\u0e34\\u0e49\\u0e21\", \"\\u0e08\\u0e34\\u0e49\\u0e21\", \"\\u0e08\\u0e48\\u0e32\\u0e22\", \"\\u0e08\\u0e48\\u0e32\\u0e22\", \"\\u0e08\\u0e48\\u0e32\\u0e22\", \"\\u0e0a\\u0e21.\", \"\\u0e0a\\u0e2d\\u0e1a\", \"\\u0e0a\\u0e2d\\u0e1a\", \"\\u0e0a\\u0e2d\\u0e1a\", \"\\u0e0a\\u0e2d\\u0e1a\", \"\\u0e0a\\u0e31\\u0e48\\u0e27\\u0e42\\u0e21\\u0e07\", \"\\u0e0a\\u0e32\\u0e1a\\u0e39\", \"\\u0e0a\\u0e32\\u0e1a\\u0e39\", \"\\u0e0a\\u0e32\\u0e1a\\u0e39\", \"\\u0e0a\\u0e32\\u0e1a\\u0e39\", \"\\u0e0a\\u0e32\\u0e1a\\u0e39\\u0e0a\\u0e34\", \"\\u0e0a\\u0e32\\u0e1a\\u0e39\\u0e0a\\u0e34\", \"\\u0e0a\\u0e32\\u0e1a\\u0e39\\u0e0a\\u0e34\", \"\\u0e0a\\u0e32\\u0e1a\\u0e39\\u0e0a\\u0e34\", \"\\u0e0a\\u0e32\\u0e1a\\u0e39\\u0e19\\u0e49\\u0e33\\u0e14\\u0e33\", \"\\u0e0a\\u0e32\\u0e1a\\u0e39\\u0e19\\u0e49\\u0e33\\u0e14\\u0e33\", \"\\u0e0a\\u0e37\\u0e48\\u0e19\", \"\\u0e0b\\u0e35\", \"\\u0e0b\\u0e38\\u0e1b\", \"\\u0e0b\\u0e38\\u0e1b\", \"\\u0e0b\\u0e38\\u0e1b\", \"\\u0e0b\\u0e38\\u0e1b\", \"\\u0e0b\\u0e39\\u0e0a\\u0e34\", \"\\u0e0b\\u0e39\\u0e0a\\u0e34\", \"\\u0e0b\\u0e39\\u0e0a\\u0e34\", \"\\u0e0b\\u0e39\\u0e0a\\u0e34\", \"\\u0e14\\u0e35\", \"\\u0e14\\u0e35\", \"\\u0e14\\u0e35\", \"\\u0e14\\u0e35\", \"\\u0e14\\u0e35\", \"\\u0e14\\u0e39\", \"\\u0e14\\u0e39\", \"\\u0e14\\u0e39\", \"\\u0e15\\u0e1a\", \"\\u0e15\\u0e2d\\u0e19\", \"\\u0e15\\u0e2d\\u0e19\", \"\\u0e15\\u0e2d\\u0e19\", \"\\u0e15\\u0e2d\\u0e19\", \"\\u0e15\\u0e31\\u0e27\", \"\\u0e15\\u0e31\\u0e27\", \"\\u0e15\\u0e31\\u0e27\", \"\\u0e15\\u0e31\\u0e27\", \"\\u0e15\\u0e34\\u0e21\", \"\\u0e15\\u0e34\\u0e21\", \"\\u0e15\\u0e34\\u0e21\", \"\\u0e15\\u0e34\\u0e21\", \"\\u0e15\\u0e49\\u0e2d\\u0e07\\u0e01\\u0e32\\u0e23\", \"\\u0e17\\u0e32\\u0e19\", \"\\u0e17\\u0e32\\u0e19\", \"\\u0e17\\u0e32\\u0e19\", \"\\u0e17\\u0e32\\u0e19\", \"\\u0e17\\u0e32\\u0e19\", \"\\u0e17\\u0e49\\u0e32\\u0e22\", \"\\u0e19\\u0e31\\u0e48\\u0e07\", \"\\u0e19\\u0e31\\u0e48\\u0e07\", \"\\u0e19\\u0e31\\u0e48\\u0e07\", \"\\u0e19\\u0e36\\u0e01\", \"\\u0e19\\u0e36\\u0e01\", \"\\u0e19\\u0e36\\u0e01\", \"\\u0e19\\u0e36\\u0e01\", \"\\u0e19\\u0e49\\u0e33\", \"\\u0e19\\u0e49\\u0e33\", \"\\u0e19\\u0e49\\u0e33\", \"\\u0e19\\u0e49\\u0e33\", \"\\u0e19\\u0e49\\u0e33\\u0e08\\u0e34\\u0e49\\u0e21\", \"\\u0e1a\\u0e23\\u0e34\\u0e01\\u0e32\\u0e23\", \"\\u0e1a\\u0e23\\u0e34\\u0e01\\u0e32\\u0e23\", \"\\u0e1a\\u0e23\\u0e34\\u0e01\\u0e32\\u0e23\", \"\\u0e1a\\u0e23\\u0e34\\u0e01\\u0e32\\u0e23\", \"\\u0e1a\\u0e32\\u0e17\", \"\\u0e1a\\u0e32\\u0e17\", \"\\u0e1a\\u0e32\\u0e17\", \"\\u0e1a\\u0e32\\u0e17\", \"\\u0e1a\\u0e34\\u0e25\", \"\\u0e1a\\u0e38\\u0e1f\\u0e40\\u0e1f\\u0e15\\u0e4c\", \"\\u0e1a\\u0e38\\u0e1f\\u0e40\\u0e1f\\u0e48\", \"\\u0e1a\\u0e38\\u0e1f\\u0e40\\u0e1f\\u0e48\\u0e15\\u0e4c\", \"\\u0e1a\\u0e38\\u0e1f\\u0e40\\u0e1f\\u0e48\\u0e15\\u0e4c\", \"\\u0e1b\\u0e23\\u0e30\\u0e17\\u0e31\\u0e1a\\u0e43\\u0e08\", \"\\u0e1b\\u0e23\\u0e38\\u0e07\", \"\\u0e1b\\u0e25\\u0e32\", \"\\u0e1b\\u0e2d\\u0e01\", \"\\u0e1b\\u0e38\\u0e23\\u0e30\", \"\\u0e1c\\u0e31\\u0e01\", \"\\u0e1c\\u0e31\\u0e01\", \"\\u0e1c\\u0e31\\u0e01\", \"\\u0e1e\\u0e19\\u0e31\\u0e01\\u0e07\\u0e32\\u0e19\", \"\\u0e1e\\u0e19\\u0e31\\u0e01\\u0e07\\u0e32\\u0e19\", \"\\u0e1e\\u0e19\\u0e31\\u0e01\\u0e07\\u0e32\\u0e19\", \"\\u0e1e\\u0e19\\u0e31\\u0e01\\u0e07\\u0e32\\u0e19\", \"\\u0e1e\\u0e2d\\u0e19\\u0e0b\\u0e36\", \"\\u0e1e\\u0e32\\u0e19\", \"\\u0e1e\\u0e32\\u0e19\", \"\\u0e1e\\u0e32\\u0e19\", \"\\u0e1e\\u0e34\\u0e0b\\u0e0b\\u0e48\\u0e32\", \"\\u0e1e\\u0e34\\u0e0b\\u0e40\\u0e0b\\u0e2d\\u0e40\\u0e23\\u0e35\\u0e22\", \"\\u0e1f\\u0e39\\u0e01\\u0e38\", \"\\u0e1f\\u0e39\\u0e49\\u0e14\", \"\\u0e22\\u0e39\", \"\\u0e23\\u0e2a\\u0e0a\\u0e32\\u0e15\\u0e34\", \"\\u0e23\\u0e2a\\u0e0a\\u0e32\\u0e15\\u0e34\", \"\\u0e23\\u0e2a\\u0e0a\\u0e32\\u0e15\\u0e34\", \"\\u0e23\\u0e2a\\u0e0a\\u0e32\\u0e15\\u0e34\", \"\\u0e23\\u0e2d\", \"\\u0e23\\u0e2d\", \"\\u0e23\\u0e2d\", \"\\u0e23\\u0e31\\u0e01\", \"\\u0e23\\u0e31\\u0e01\", \"\\u0e23\\u0e32\\u0e04\\u0e32\", \"\\u0e23\\u0e32\\u0e04\\u0e32\", \"\\u0e23\\u0e32\\u0e04\\u0e32\", \"\\u0e23\\u0e32\\u0e04\\u0e32\", \"\\u0e23\\u0e39\\u0e49\\u0e08\\u0e31\\u0e01\", \"\\u0e23\\u0e39\\u0e49\\u0e2a\\u0e36\\u0e01\", \"\\u0e23\\u0e39\\u0e49\\u0e2a\\u0e36\\u0e01\", \"\\u0e25\\u0e2d\\u0e07\", \"\\u0e25\\u0e2d\\u0e07\", \"\\u0e25\\u0e2d\\u0e07\", \"\\u0e25\\u0e2d\\u0e07\", \"\\u0e25\\u0e39\\u0e01\\u0e04\\u0e49\\u0e32\", \"\\u0e27\\u0e31\\u0e27\", \"\\u0e27\\u0e31\\u0e27\", \"\\u0e2a\\u0e14\", \"\\u0e2a\\u0e14\", \"\\u0e2a\\u0e14\", \"\\u0e2a\\u0e14\", \"\\u0e2a\\u0e31\\u0e19\", \"\\u0e2a\\u0e31\\u0e48\\u0e07\", \"\\u0e2a\\u0e31\\u0e48\\u0e07\", \"\\u0e2a\\u0e31\\u0e48\\u0e07\", \"\\u0e2a\\u0e31\\u0e48\\u0e07\", \"\\u0e2a\\u0e32\\u0e02\\u0e32\", \"\\u0e2a\\u0e32\\u0e02\\u0e32\", \"\\u0e2a\\u0e32\\u0e02\\u0e32\", \"\\u0e2a\\u0e32\\u0e02\\u0e32\", \"\\u0e2a\\u0e32\\u0e22\", \"\\u0e2a\\u0e32\\u0e22\", \"\\u0e2a\\u0e32\\u0e22\", \"\\u0e2a\\u0e32\\u0e22\", \"\\u0e2a\\u0e33\\u0e2b\\u0e23\\u0e31\\u0e1a\", \"\\u0e2a\\u0e33\\u0e2b\\u0e23\\u0e31\\u0e1a\", \"\\u0e2b\\u0e19\\u0e49\\u0e32\", \"\\u0e2b\\u0e19\\u0e49\\u0e32\", \"\\u0e2b\\u0e19\\u0e49\\u0e32\", \"\\u0e2b\\u0e19\\u0e49\\u0e32\", \"\\u0e2b\\u0e21\\u0e39\", \"\\u0e2b\\u0e21\\u0e39\", \"\\u0e2b\\u0e21\\u0e39\", \"\\u0e2b\\u0e21\\u0e39\", \"\\u0e2b\\u0e21\\u0e49\\u0e2d\", \"\\u0e2b\\u0e21\\u0e49\\u0e2d\", \"\\u0e2b\\u0e21\\u0e49\\u0e2d\", \"\\u0e2b\\u0e22\\u0e34\\u0e1a\", \"\\u0e2b\\u0e22\\u0e34\\u0e1a\", \"\\u0e2b\\u0e22\\u0e34\\u0e1a\", \"\\u0e2b\\u0e27\\u0e22\", \"\\u0e2b\\u0e27\\u0e31\\u0e07\", \"\\u0e2b\\u0e27\\u0e32\\u0e19\", \"\\u0e2b\\u0e27\\u0e32\\u0e19\", \"\\u0e2b\\u0e27\\u0e32\\u0e19\", \"\\u0e2b\\u0e27\\u0e32\\u0e19\", \"\\u0e2b\\u0e2d\\u0e21\", \"\\u0e2b\\u0e2d\\u0e21\", \"\\u0e2b\\u0e49\\u0e32\\u0e07\", \"\\u0e2b\\u0e49\\u0e32\\u0e07\", \"\\u0e2b\\u0e49\\u0e32\\u0e07\", \"\\u0e2d\\u0e22\\u0e48\\u0e32\", \"\\u0e2d\\u0e23\\u0e48\\u0e2d\\u0e22\", \"\\u0e2d\\u0e23\\u0e48\\u0e2d\\u0e22\", \"\\u0e2d\\u0e23\\u0e48\\u0e2d\\u0e22\", \"\\u0e2d\\u0e23\\u0e48\\u0e2d\\u0e22\", \"\\u0e2d\\u0e23\\u0e48\\u0e2d\\u0e22\", \"\\u0e2d\\u0e32\\u0e2b\\u0e32\\u0e23\", \"\\u0e2d\\u0e32\\u0e2b\\u0e32\\u0e23\", \"\\u0e2d\\u0e32\\u0e2b\\u0e32\\u0e23\", \"\\u0e2d\\u0e32\\u0e2b\\u0e32\\u0e23\", \"\\u0e2d\\u0e34\\u0e48\\u0e21\", \"\\u0e40\\u0e02\\u0e35\\u0e22\\u0e27\\u0e2b\\u0e27\\u0e32\\u0e19\", \"\\u0e40\\u0e02\\u0e49\\u0e21\\u0e02\\u0e49\\u0e19\", \"\\u0e40\\u0e0a\\u0e47\\u0e04\", \"\\u0e40\\u0e17\\u0e21\", \"\\u0e40\\u0e19\\u0e35\\u0e48\\u0e22\\u0e19\", \"\\u0e40\\u0e19\\u0e37\\u0e48\\u0e2d\\u0e07\", \"\\u0e40\\u0e19\\u0e37\\u0e49\\u0e2d\", \"\\u0e40\\u0e19\\u0e37\\u0e49\\u0e2d\", \"\\u0e40\\u0e19\\u0e37\\u0e49\\u0e2d\", \"\\u0e40\\u0e19\\u0e37\\u0e49\\u0e2d\", \"\\u0e40\\u0e19\\u0e37\\u0e49\\u0e2d\", \"\\u0e40\\u0e1a\", \"\\u0e40\\u0e1b\\u0e25\\u0e37\\u0e2d\\u0e01\", \"\\u0e40\\u0e21\\u0e19\\u0e39\", \"\\u0e40\\u0e21\\u0e19\\u0e39\", \"\\u0e40\\u0e21\\u0e19\\u0e39\", \"\\u0e40\\u0e21\\u0e19\\u0e39\", \"\\u0e40\\u0e25\\u0e34\\u0e01\", \"\\u0e40\\u0e25\\u0e37\\u0e2d\\u0e01\", \"\\u0e40\\u0e25\\u0e37\\u0e2d\\u0e01\", \"\\u0e40\\u0e25\\u0e37\\u0e2d\\u0e01\", \"\\u0e40\\u0e25\\u0e37\\u0e2d\\u0e01\", \"\\u0e40\\u0e25\\u0e37\\u0e2d\\u0e01\", \"\\u0e40\\u0e25\\u0e48\\u0e19\", \"\\u0e40\\u0e27\\u0e25\\u0e32\", \"\\u0e40\\u0e27\\u0e25\\u0e32\", \"\\u0e40\\u0e2b\\u0e47\\u0e14\", \"\\u0e41\\u0e19\\u0e30\\u0e19\\u0e33\", \"\\u0e41\\u0e19\\u0e30\\u0e19\\u0e33\", \"\\u0e41\\u0e19\\u0e30\\u0e19\\u0e33\", \"\\u0e41\\u0e19\\u0e48\\u0e19\\u0e2d\\u0e19\", \"\\u0e41\\u0e27\\u0e30\", \"\\u0e42\\u0e0a\\u0e04\", \"\\u0e42\\u0e14\\u0e19\", \"\\u0e43\\u0e08\", \"\\u0e43\\u0e08\", \"\\u0e43\\u0e08\", \"\\u0e44\\u0e01\\u0e48\", \"\\u0e44\\u0e01\\u0e48\", \"\\u0e44\\u0e01\\u0e48\", \"\\u0e44\\u0e01\\u0e48\", \"\\u0e44\\u0e14\", \"\\u0e44\\u0e1c\\u0e48\", \"\\u0e44\\u0e21\\u0e49\", \"\\u200b \"]}, \"R\": 30, \"lambda.step\": 0.01, \"plot.opts\": {\"xlab\": \"PC1\", \"ylab\": \"PC2\"}, \"topic.order\": [2, 4, 1, 5, 3]};\n",
              "\n",
              "function LDAvis_load_lib(url, callback){\n",
              "  var s = document.createElement('script');\n",
              "  s.src = url;\n",
              "  s.async = true;\n",
              "  s.onreadystatechange = s.onload = callback;\n",
              "  s.onerror = function(){console.warn(\"failed to load library \" + url);};\n",
              "  document.getElementsByTagName(\"head\")[0].appendChild(s);\n",
              "}\n",
              "\n",
              "if(typeof(LDAvis) !== \"undefined\"){\n",
              "   // already loaded: just create the visualization\n",
              "   !function(LDAvis){\n",
              "       new LDAvis(\"#\" + \"ldavis_el7421405048020621608688164142\", ldavis_el7421405048020621608688164142_data);\n",
              "   }(LDAvis);\n",
              "}else if(typeof define === \"function\" && define.amd){\n",
              "   // require.js is available: use it to load d3/LDAvis\n",
              "   require.config({paths: {d3: \"https://d3js.org/d3.v5\"}});\n",
              "   require([\"d3\"], function(d3){\n",
              "      window.d3 = d3;\n",
              "      LDAvis_load_lib(\"https://cdn.jsdelivr.net/gh/bmabey/pyLDAvis@3.3.1/pyLDAvis/js/ldavis.v3.0.0.js\", function(){\n",
              "        new LDAvis(\"#\" + \"ldavis_el7421405048020621608688164142\", ldavis_el7421405048020621608688164142_data);\n",
              "      });\n",
              "    });\n",
              "}else{\n",
              "    // require.js not available: dynamically load d3 & LDAvis\n",
              "    LDAvis_load_lib(\"https://d3js.org/d3.v5.js\", function(){\n",
              "         LDAvis_load_lib(\"https://cdn.jsdelivr.net/gh/bmabey/pyLDAvis@3.3.1/pyLDAvis/js/ldavis.v3.0.0.js\", function(){\n",
              "                 new LDAvis(\"#\" + \"ldavis_el7421405048020621608688164142\", ldavis_el7421405048020621608688164142_data);\n",
              "            })\n",
              "         });\n",
              "}\n",
              "</script>"
            ],
            "text/plain": [
              "PreparedData(topic_coordinates=              x         y  topics  cluster       Freq\n",
              "topic                                                \n",
              "1      0.050687 -0.030148       1        1  37.937576\n",
              "3     -0.056323 -0.023294       2        1  30.942346\n",
              "0     -0.006281  0.023208       3        1  14.930889\n",
              "4      0.011006  0.033120       4        1  13.611507\n",
              "2      0.000911 -0.002886       5        1   2.577682, topic_info=        Term       Freq      Total Category  logprob  loglift\n",
              "11        ดี  28.000000  28.000000  Default  30.0000  30.0000\n",
              "68       ทาน  24.000000  24.000000  Default  29.0000  29.0000\n",
              "145    เลือก  19.000000  19.000000  Default  28.0000  28.0000\n",
              "31     อร่อย  17.000000  17.000000  Default  27.0000  27.0000\n",
              "32     อาหาร  21.000000  21.000000  Default  26.0000  26.0000\n",
              "..       ...        ...        ...      ...      ...      ...\n",
              "140     หวาน   0.242983  13.008199   Topic5  -4.9158  -0.3221\n",
              "63      ชาบู   0.213305   8.696968   Topic5  -5.0460  -0.0497\n",
              "114      ตัว   0.205584   9.166635   Topic5  -5.0829  -0.1392\n",
              "21   พนักงาน   0.192359   8.091508   Topic5  -5.1494  -0.0809\n",
              "132       สด   0.197081  12.270883   Topic5  -5.1252  -0.4731\n",
              "\n",
              "[327 rows x 6 columns], token_table=      Topic      Freq     Term\n",
              "term                          \n",
              "90        2  0.878915         \n",
              "458       2  0.897565     HALL\n",
              "459       2  0.897577   ธรรมดา\n",
              "202       1  0.356668        )\n",
              "202       4  0.356668        )\n",
              "...     ...       ...      ...\n",
              "158       4  0.165210      ไก่\n",
              "160       2  0.537115       ได\n",
              "161       2  0.537136      ไผ่\n",
              "162       2  0.535907      ไม้\n",
              "46        3  0.505623       ​ \n",
              "\n",
              "[301 rows x 3 columns], R=30, lambda_step=0.01, plot_opts={'xlab': 'PC1', 'ylab': 'PC2'}, topic_order=[2, 4, 1, 5, 3])"
            ]
          },
          "metadata": {
            "tags": []
          },
          "execution_count": 14
        }
      ]
    },
    {
      "cell_type": "code",
      "metadata": {
        "colab": {
          "base_uri": "https://localhost:8080/"
        },
        "id": "jFYDpkuR8ue1",
        "outputId": "8ecca8cc-7bad-44aa-8d8e-4aa7c1b18d22"
      },
      "source": [
        "model.show_topic(3)"
      ],
      "execution_count": null,
      "outputs": [
        {
          "output_type": "execute_result",
          "data": {
            "text/plain": [
              "[('ทาน', 0.027404325),\n",
              " ('น้ำ', 0.024103394),\n",
              " ('เนื้อ', 0.022638202),\n",
              " ('เลือก', 0.019307017),\n",
              " ('อร่อย', 0.018245785),\n",
              " ('ซุป', 0.016854124),\n",
              " ('บาท', 0.016843596),\n",
              " ('ราคา', 0.015618945),\n",
              " ('', 0.014608367),\n",
              " ('ดี', 0.014080539)]"
            ]
          },
          "metadata": {
            "tags": []
          },
          "execution_count": 15
        }
      ]
    },
    {
      "cell_type": "code",
      "metadata": {
        "id": "8aAV1TW3KnKd"
      },
      "source": [
        "# get from most 10 tokens\n",
        "def convert_to_topic(x):\n",
        "  topic = \"\"\n",
        "  for i in range(len(x)):\n",
        "    topic += x[i][0]\n",
        "    if i >= 9:\n",
        "      break;\n",
        "  return topic"
      ],
      "execution_count": null,
      "outputs": []
    },
    {
      "cell_type": "code",
      "metadata": {
        "colab": {
          "base_uri": "https://localhost:8080/"
        },
        "id": "fmKH8wICOe3O",
        "outputId": "a77c272b-5b83-417e-dd56-7142bfe5a0c5"
      },
      "source": [
        "# gen. topic name\n",
        "gen_topic_names = []\n",
        "for i in range(model.num_topics):\n",
        "  topic_name = convert_to_topic(model.show_topic(i))\n",
        "  gen_topic_names.append(topic_name)\n",
        "\n",
        "print (gen_topic_names)"
      ],
      "execution_count": null,
      "outputs": [
        {
          "output_type": "stream",
          "text": [
            "['ดีกินน้ำเนื้ออร่อยอาหารราคาเลือกทานชาบู', 'ดีกินอาหารเนื้อคนทานกุ้งราคาสดหวาน', 'ดีทานเลือกอร่อยเนื้ออาหารกินคุ้มน้ำราคา', 'ทานน้ำเนื้อเลือกอร่อยซุปบาทราคาดี', 'ดีอาหารทานเลือกสาขาคุ้มเนื้อราคากินบาท']\n"
          ],
          "name": "stdout"
        }
      ]
    },
    {
      "cell_type": "code",
      "metadata": {
        "id": "vshxB_6VFCID"
      },
      "source": [
        "df['topics'] = df['Review_tokenized'].apply(lambda x: model.get_document_topics(dictionary.doc2bow(x.split(',')))[0][0])\n",
        "df['score'] = df['Review_tokenized'].apply(lambda x: model.get_document_topics(dictionary.doc2bow(x.split(',')))[0][1])\n",
        "df['topic_name'] = df['Review_tokenized'].apply(lambda x: model.show_topic(model.get_document_topics(dictionary.doc2bow(x.split(',')))[0][0]))\n",
        "df['topic_name2'] = df['topic_name'].apply(lambda x:convert_to_topic(x))\n"
      ],
      "execution_count": null,
      "outputs": []
    },
    {
      "cell_type": "code",
      "metadata": {
        "colab": {
          "base_uri": "https://localhost:8080/",
          "height": 1000
        },
        "id": "D52NWgUzDLSl",
        "outputId": "fd9ea412-11aa-4912-c21f-ad2fc44d9aa5"
      },
      "source": [
        "pd.set_option('display.max_columns', None)\n",
        "df[['Restaurant', 'Review', 'topics', 'topic_name2','score']].head(30)"
      ],
      "execution_count": null,
      "outputs": [
        {
          "output_type": "execute_result",
          "data": {
            "text/html": [
              "<div>\n",
              "<style scoped>\n",
              "    .dataframe tbody tr th:only-of-type {\n",
              "        vertical-align: middle;\n",
              "    }\n",
              "\n",
              "    .dataframe tbody tr th {\n",
              "        vertical-align: top;\n",
              "    }\n",
              "\n",
              "    .dataframe thead th {\n",
              "        text-align: right;\n",
              "    }\n",
              "</style>\n",
              "<table border=\"1\" class=\"dataframe\">\n",
              "  <thead>\n",
              "    <tr style=\"text-align: right;\">\n",
              "      <th></th>\n",
              "      <th>Restaurant</th>\n",
              "      <th>Review</th>\n",
              "      <th>topics</th>\n",
              "      <th>topic_name2</th>\n",
              "      <th>score</th>\n",
              "    </tr>\n",
              "  </thead>\n",
              "  <tbody>\n",
              "    <tr>\n",
              "      <th>0</th>\n",
              "      <td>Mo-Mo-Paradise (โม โม พาราไดซ์) เดอะมอลล์ บางกะปิ</td>\n",
              "      <td>ที่สำคัญของร้านนี้คือบริการดีมากพนักงานน่ารักส...</td>\n",
              "      <td>0</td>\n",
              "      <td>ดีกินน้ำเนื้ออร่อยอาหารราคาเลือกทานชาบู</td>\n",
              "      <td>0.998378</td>\n",
              "    </tr>\n",
              "    <tr>\n",
              "      <th>1</th>\n",
              "      <td>Mo-Mo-Paradise (โม โม พาราไดซ์) เดอะมอลล์ บางกะปิ</td>\n",
              "      <td>นึกถึงชาบูญี่ปุ่นยังไงก็ต้อง คิดถึงโมโม่ พาราไ...</td>\n",
              "      <td>4</td>\n",
              "      <td>ดีอาหารทานเลือกสาขาคุ้มเนื้อราคากินบาท</td>\n",
              "      <td>0.997422</td>\n",
              "    </tr>\n",
              "    <tr>\n",
              "      <th>2</th>\n",
              "      <td>Mo-Mo-Paradise (โม โม พาราไดซ์) เดอะมอลล์ บางกะปิ</td>\n",
              "      <td>มาทานช่วงนี้ สามารถนั่งโต๊ะเดียวกัน หม้อเดียวก...</td>\n",
              "      <td>3</td>\n",
              "      <td>ทานน้ำเนื้อเลือกอร่อยซุปบาทราคาดี</td>\n",
              "      <td>0.999307</td>\n",
              "    </tr>\n",
              "    <tr>\n",
              "      <th>3</th>\n",
              "      <td>Mo-Mo-Paradise (โม โม พาราไดซ์) เดอะมอลล์ บางกะปิ</td>\n",
              "      <td>ถ้านึกถึงชาบูที่มีเนื้อเน้นๆ ในราคาไม่โหดจนเกิ...</td>\n",
              "      <td>0</td>\n",
              "      <td>ดีกินน้ำเนื้ออร่อยอาหารราคาเลือกทานชาบู</td>\n",
              "      <td>0.996225</td>\n",
              "    </tr>\n",
              "    <tr>\n",
              "      <th>4</th>\n",
              "      <td>Mo-Mo-Paradise (โม โม พาราไดซ์) เดอะมอลล์ บางกะปิ</td>\n",
              "      <td>เดินมาหน้าร้านแล้วได้กลิ่นชาบูหอมมาก ๆ  ประกอบ...</td>\n",
              "      <td>0</td>\n",
              "      <td>ดีกินน้ำเนื้ออร่อยอาหารราคาเลือกทานชาบู</td>\n",
              "      <td>0.997093</td>\n",
              "    </tr>\n",
              "    <tr>\n",
              "      <th>5</th>\n",
              "      <td>Mo-Mo-Paradise (โม โม พาราไดซ์) เดอะมอลล์ บางกะปิ</td>\n",
              "      <td>ร้านบุฟเฟ่ ชาบูแนวญี่ปุ่น สายเนื้อหมู เนื้อวัว...</td>\n",
              "      <td>1</td>\n",
              "      <td>ดีกินอาหารเนื้อคนทานกุ้งราคาสดหวาน</td>\n",
              "      <td>0.996982</td>\n",
              "    </tr>\n",
              "    <tr>\n",
              "      <th>6</th>\n",
              "      <td>Mo-Mo-Paradise (โม โม พาราไดซ์) เดอะมอลล์ บางกะปิ</td>\n",
              "      <td>Number 20 : โมโม – พาราไดส์ (สาขาเดอะมอลบางกะป...</td>\n",
              "      <td>1</td>\n",
              "      <td>ดีกินอาหารเนื้อคนทานกุ้งราคาสดหวาน</td>\n",
              "      <td>0.998044</td>\n",
              "    </tr>\n",
              "    <tr>\n",
              "      <th>7</th>\n",
              "      <td>Mo-Mo-Paradise (โม โม พาราไดซ์) เดอะมอลล์ บางกะปิ</td>\n",
              "      <td>ร้านชาบูเฟรนไชส์รสชาติดีมากคุ้มค่าเหมาะสมกับรา...</td>\n",
              "      <td>0</td>\n",
              "      <td>ดีกินน้ำเนื้ออร่อยอาหารราคาเลือกทานชาบู</td>\n",
              "      <td>0.997859</td>\n",
              "    </tr>\n",
              "    <tr>\n",
              "      <th>8</th>\n",
              "      <td>Shabushi (ชาบูชิ) เดอะมอลล์บางกะปิ ชั้น G</td>\n",
              "      <td>มา านที่ขาบูชิต้องมาตอนหิว ไม่งั้นจะไม่คุ้มนะค...</td>\n",
              "      <td>4</td>\n",
              "      <td>ดีอาหารทานเลือกสาขาคุ้มเนื้อราคากินบาท</td>\n",
              "      <td>0.996516</td>\n",
              "    </tr>\n",
              "    <tr>\n",
              "      <th>9</th>\n",
              "      <td>Shabushi (ชาบูชิ) เดอะมอลล์บางกะปิ ชั้น G</td>\n",
              "      <td>ใครชอบกุ้งทอดเทมปุระ แค่กุ้งเทมปุระก็คุ้มแล้ว ...</td>\n",
              "      <td>1</td>\n",
              "      <td>ดีกินอาหารเนื้อคนทานกุ้งราคาสดหวาน</td>\n",
              "      <td>0.997923</td>\n",
              "    </tr>\n",
              "    <tr>\n",
              "      <th>10</th>\n",
              "      <td>Shabushi (ชาบูชิ) เดอะมอลล์บางกะปิ ชั้น G</td>\n",
              "      <td>กลับมาอัพเดทราคาชาบูชิ ตอนนี้อยู่ที่ 399 บาท n...</td>\n",
              "      <td>3</td>\n",
              "      <td>ทานน้ำเนื้อเลือกอร่อยซุปบาทราคาดี</td>\n",
              "      <td>0.996839</td>\n",
              "    </tr>\n",
              "    <tr>\n",
              "      <th>11</th>\n",
              "      <td>Shabushi (ชาบูชิ) เดอะมอลล์บางกะปิ ชั้น G</td>\n",
              "      <td>ห่างหายไปนานสำหรับชาบูชิ ตั้งแต่ทางร้านได้ปรับ...</td>\n",
              "      <td>1</td>\n",
              "      <td>ดีกินอาหารเนื้อคนทานกุ้งราคาสดหวาน</td>\n",
              "      <td>0.999533</td>\n",
              "    </tr>\n",
              "    <tr>\n",
              "      <th>12</th>\n",
              "      <td>Shabushi (ชาบูชิ) เดอะมอลล์บางกะปิ ชั้น G</td>\n",
              "      <td>เมื่อหลายวันก่อนนัดหาข้าวทานกับเดอะแกงค์ และก็...</td>\n",
              "      <td>3</td>\n",
              "      <td>ทานน้ำเนื้อเลือกอร่อยซุปบาทราคาดี</td>\n",
              "      <td>0.997253</td>\n",
              "    </tr>\n",
              "    <tr>\n",
              "      <th>13</th>\n",
              "      <td>Shabushi (ชาบูชิ) เดอะมอลล์บางกะปิ ชั้น G</td>\n",
              "      <td>บอกตรงๆว่าหลายครั้งที่เลือกจะกินบุฟเฟต์จะต้องอ...</td>\n",
              "      <td>1</td>\n",
              "      <td>ดีกินอาหารเนื้อคนทานกุ้งราคาสดหวาน</td>\n",
              "      <td>0.998280</td>\n",
              "    </tr>\n",
              "    <tr>\n",
              "      <th>14</th>\n",
              "      <td>Shabushi (ชาบูชิ) เดอะมอลล์บางกะปิ ชั้น G</td>\n",
              "      <td>สวัสดีครับวันนี้จะขอมารีวิวร้านชาบูชิ บุฟเฟขวั...</td>\n",
              "      <td>2</td>\n",
              "      <td>ดีทานเลือกอร่อยเนื้ออาหารกินคุ้มน้ำราคา</td>\n",
              "      <td>0.996156</td>\n",
              "    </tr>\n",
              "    <tr>\n",
              "      <th>15</th>\n",
              "      <td>Shabushi (ชาบูชิ) เดอะมอลล์บางกะปิ ชั้น G</td>\n",
              "      <td>ชาบูชิ สาขาเดอะมอลล์บางกะปิ ตั้งอยู่ประตูหน้าห...</td>\n",
              "      <td>4</td>\n",
              "      <td>ดีอาหารทานเลือกสาขาคุ้มเนื้อราคากินบาท</td>\n",
              "      <td>0.998750</td>\n",
              "    </tr>\n",
              "    <tr>\n",
              "      <th>16</th>\n",
              "      <td>ข้าน้อยขอชาบู</td>\n",
              "      <td>หลังจากที่เคยลองสาขายูเนี่ยนมอลล์ไป รอบนี้มาที...</td>\n",
              "      <td>3</td>\n",
              "      <td>ทานน้ำเนื้อเลือกอร่อยซุปบาทราคาดี</td>\n",
              "      <td>0.998624</td>\n",
              "    </tr>\n",
              "    <tr>\n",
              "      <th>17</th>\n",
              "      <td>ข้าน้อยขอชาบู</td>\n",
              "      <td>ร้านบุฟเฟ่ต์ที่มีโปรโมชั่นหัวละ199บาท ไม่รวมน้...</td>\n",
              "      <td>3</td>\n",
              "      <td>ทานน้ำเนื้อเลือกอร่อยซุปบาทราคาดี</td>\n",
              "      <td>0.998341</td>\n",
              "    </tr>\n",
              "    <tr>\n",
              "      <th>18</th>\n",
              "      <td>ข้าน้อยขอชาบู</td>\n",
              "      <td>เคยรู้จักร้านนี้จากที่ union mall ไม่เคยได้ลอง...</td>\n",
              "      <td>1</td>\n",
              "      <td>ดีกินอาหารเนื้อคนทานกุ้งราคาสดหวาน</td>\n",
              "      <td>0.997378</td>\n",
              "    </tr>\n",
              "    <tr>\n",
              "      <th>19</th>\n",
              "      <td>ข้าน้อยขอชาบู</td>\n",
              "      <td>อร่อยมากค่ะ คุ้มค่าสมราคา บุฟเฟ่หมูผักต่างๆ รว...</td>\n",
              "      <td>1</td>\n",
              "      <td>ดีกินอาหารเนื้อคนทานกุ้งราคาสดหวาน</td>\n",
              "      <td>0.997833</td>\n",
              "    </tr>\n",
              "    <tr>\n",
              "      <th>20</th>\n",
              "      <td>ข้าน้อยขอชาบู</td>\n",
              "      <td>ก็ตามที่เขียนเลยครับ ว่า ถ้าจะจ่ายในราคา 199 บ...</td>\n",
              "      <td>3</td>\n",
              "      <td>ทานน้ำเนื้อเลือกอร่อยซุปบาทราคาดี</td>\n",
              "      <td>0.997180</td>\n",
              "    </tr>\n",
              "  </tbody>\n",
              "</table>\n",
              "</div>"
            ],
            "text/plain": [
              "                                           Restaurant  \\\n",
              "0   Mo-Mo-Paradise (โม โม พาราไดซ์) เดอะมอลล์ บางกะปิ   \n",
              "1   Mo-Mo-Paradise (โม โม พาราไดซ์) เดอะมอลล์ บางกะปิ   \n",
              "2   Mo-Mo-Paradise (โม โม พาราไดซ์) เดอะมอลล์ บางกะปิ   \n",
              "3   Mo-Mo-Paradise (โม โม พาราไดซ์) เดอะมอลล์ บางกะปิ   \n",
              "4   Mo-Mo-Paradise (โม โม พาราไดซ์) เดอะมอลล์ บางกะปิ   \n",
              "5   Mo-Mo-Paradise (โม โม พาราไดซ์) เดอะมอลล์ บางกะปิ   \n",
              "6   Mo-Mo-Paradise (โม โม พาราไดซ์) เดอะมอลล์ บางกะปิ   \n",
              "7   Mo-Mo-Paradise (โม โม พาราไดซ์) เดอะมอลล์ บางกะปิ   \n",
              "8           Shabushi (ชาบูชิ) เดอะมอลล์บางกะปิ ชั้น G   \n",
              "9           Shabushi (ชาบูชิ) เดอะมอลล์บางกะปิ ชั้น G   \n",
              "10          Shabushi (ชาบูชิ) เดอะมอลล์บางกะปิ ชั้น G   \n",
              "11          Shabushi (ชาบูชิ) เดอะมอลล์บางกะปิ ชั้น G   \n",
              "12          Shabushi (ชาบูชิ) เดอะมอลล์บางกะปิ ชั้น G   \n",
              "13          Shabushi (ชาบูชิ) เดอะมอลล์บางกะปิ ชั้น G   \n",
              "14          Shabushi (ชาบูชิ) เดอะมอลล์บางกะปิ ชั้น G   \n",
              "15          Shabushi (ชาบูชิ) เดอะมอลล์บางกะปิ ชั้น G   \n",
              "16                                      ข้าน้อยขอชาบู   \n",
              "17                                      ข้าน้อยขอชาบู   \n",
              "18                                      ข้าน้อยขอชาบู   \n",
              "19                                      ข้าน้อยขอชาบู   \n",
              "20                                      ข้าน้อยขอชาบู   \n",
              "\n",
              "                                               Review  topics  \\\n",
              "0   ที่สำคัญของร้านนี้คือบริการดีมากพนักงานน่ารักส...       0   \n",
              "1   นึกถึงชาบูญี่ปุ่นยังไงก็ต้อง คิดถึงโมโม่ พาราไ...       4   \n",
              "2   มาทานช่วงนี้ สามารถนั่งโต๊ะเดียวกัน หม้อเดียวก...       3   \n",
              "3   ถ้านึกถึงชาบูที่มีเนื้อเน้นๆ ในราคาไม่โหดจนเกิ...       0   \n",
              "4   เดินมาหน้าร้านแล้วได้กลิ่นชาบูหอมมาก ๆ  ประกอบ...       0   \n",
              "5   ร้านบุฟเฟ่ ชาบูแนวญี่ปุ่น สายเนื้อหมู เนื้อวัว...       1   \n",
              "6   Number 20 : โมโม – พาราไดส์ (สาขาเดอะมอลบางกะป...       1   \n",
              "7   ร้านชาบูเฟรนไชส์รสชาติดีมากคุ้มค่าเหมาะสมกับรา...       0   \n",
              "8   มา านที่ขาบูชิต้องมาตอนหิว ไม่งั้นจะไม่คุ้มนะค...       4   \n",
              "9   ใครชอบกุ้งทอดเทมปุระ แค่กุ้งเทมปุระก็คุ้มแล้ว ...       1   \n",
              "10  กลับมาอัพเดทราคาชาบูชิ ตอนนี้อยู่ที่ 399 บาท n...       3   \n",
              "11  ห่างหายไปนานสำหรับชาบูชิ ตั้งแต่ทางร้านได้ปรับ...       1   \n",
              "12  เมื่อหลายวันก่อนนัดหาข้าวทานกับเดอะแกงค์ และก็...       3   \n",
              "13  บอกตรงๆว่าหลายครั้งที่เลือกจะกินบุฟเฟต์จะต้องอ...       1   \n",
              "14  สวัสดีครับวันนี้จะขอมารีวิวร้านชาบูชิ บุฟเฟขวั...       2   \n",
              "15  ชาบูชิ สาขาเดอะมอลล์บางกะปิ ตั้งอยู่ประตูหน้าห...       4   \n",
              "16  หลังจากที่เคยลองสาขายูเนี่ยนมอลล์ไป รอบนี้มาที...       3   \n",
              "17  ร้านบุฟเฟ่ต์ที่มีโปรโมชั่นหัวละ199บาท ไม่รวมน้...       3   \n",
              "18  เคยรู้จักร้านนี้จากที่ union mall ไม่เคยได้ลอง...       1   \n",
              "19  อร่อยมากค่ะ คุ้มค่าสมราคา บุฟเฟ่หมูผักต่างๆ รว...       1   \n",
              "20  ก็ตามที่เขียนเลยครับ ว่า ถ้าจะจ่ายในราคา 199 บ...       3   \n",
              "\n",
              "                                topic_name2     score  \n",
              "0   ดีกินน้ำเนื้ออร่อยอาหารราคาเลือกทานชาบู  0.998378  \n",
              "1    ดีอาหารทานเลือกสาขาคุ้มเนื้อราคากินบาท  0.997422  \n",
              "2         ทานน้ำเนื้อเลือกอร่อยซุปบาทราคาดี  0.999307  \n",
              "3   ดีกินน้ำเนื้ออร่อยอาหารราคาเลือกทานชาบู  0.996225  \n",
              "4   ดีกินน้ำเนื้ออร่อยอาหารราคาเลือกทานชาบู  0.997093  \n",
              "5        ดีกินอาหารเนื้อคนทานกุ้งราคาสดหวาน  0.996982  \n",
              "6        ดีกินอาหารเนื้อคนทานกุ้งราคาสดหวาน  0.998044  \n",
              "7   ดีกินน้ำเนื้ออร่อยอาหารราคาเลือกทานชาบู  0.997859  \n",
              "8    ดีอาหารทานเลือกสาขาคุ้มเนื้อราคากินบาท  0.996516  \n",
              "9        ดีกินอาหารเนื้อคนทานกุ้งราคาสดหวาน  0.997923  \n",
              "10        ทานน้ำเนื้อเลือกอร่อยซุปบาทราคาดี  0.996839  \n",
              "11       ดีกินอาหารเนื้อคนทานกุ้งราคาสดหวาน  0.999533  \n",
              "12        ทานน้ำเนื้อเลือกอร่อยซุปบาทราคาดี  0.997253  \n",
              "13       ดีกินอาหารเนื้อคนทานกุ้งราคาสดหวาน  0.998280  \n",
              "14  ดีทานเลือกอร่อยเนื้ออาหารกินคุ้มน้ำราคา  0.996156  \n",
              "15   ดีอาหารทานเลือกสาขาคุ้มเนื้อราคากินบาท  0.998750  \n",
              "16        ทานน้ำเนื้อเลือกอร่อยซุปบาทราคาดี  0.998624  \n",
              "17        ทานน้ำเนื้อเลือกอร่อยซุปบาทราคาดี  0.998341  \n",
              "18       ดีกินอาหารเนื้อคนทานกุ้งราคาสดหวาน  0.997378  \n",
              "19       ดีกินอาหารเนื้อคนทานกุ้งราคาสดหวาน  0.997833  \n",
              "20        ทานน้ำเนื้อเลือกอร่อยซุปบาทราคาดี  0.997180  "
            ]
          },
          "metadata": {
            "tags": []
          },
          "execution_count": 19
        }
      ]
    },
    {
      "cell_type": "markdown",
      "metadata": {
        "id": "Qt7i56pJMwbL"
      },
      "source": [
        "#Interpretation:"
      ]
    },
    {
      "cell_type": "markdown",
      "metadata": {
        "id": "_ZF7a3aqNPDp"
      },
      "source": [
        "\n",
        "#Topic :\n",
        "\n",
        "Topic 0 ดี กิน น้ำ เนื้อ อร่อย อาหาร ราคา เลือกทาน ชาบู #ชาบู\n",
        "\n",
        "Topic 1 ดี กิน อาหาร เนื้อ คนทานกุ้ง ราคา สด หวาน #กุ้ง สด หวาน\n",
        "\n",
        "Topic 2 ดี ทาน เลือก อร่อย เนื้อ อาหาร กิน คุ้ม น้ำ ราคา\n",
        "\n",
        "Topic 3 ทาน น้ำ เนื้อ เลือก อร่อย ซุป บาท ราคาดี \n",
        "\n",
        "Topic 4 ดี อาหาร ทาน เลือก สาขา คุ้ม เนื้อ ราคา กิน บาท #สาขา\n",
        "\n",
        "#keywords ที่ปรากฎไม่ซ้ำ Topic อื่นๆ\n",
        "\n",
        "#Mo-Mo-Paradise (โม โม พาราไดซ์) เดอะมอลล์ บางกะปิ\n",
        "From 8 reviews; classify as topic 0=4, topic 1=2, topic 3=1, and topic 4=1\n",
        "\n",
        "#Shabushi (ชาบูชิ) เดอะมอลล์บางกะปิ ชั้น G\n",
        "From 8 reviews; classify as topic 1=3, topic 2=1, topic 3=2, and topic 4=2\n",
        "\n",
        "#ข้าน้อยขอชาบู\n",
        "From 5 reviews; classify as topic 1=2 and topic 3=3"
      ]
    }
  ]
}